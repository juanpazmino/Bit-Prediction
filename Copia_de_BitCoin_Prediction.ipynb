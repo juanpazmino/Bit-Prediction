{
  "nbformat": 4,
  "nbformat_minor": 0,
  "metadata": {
    "colab": {
      "provenance": [],
      "include_colab_link": true
    },
    "kernelspec": {
      "name": "python3",
      "display_name": "Python 3"
    },
    "language_info": {
      "name": "python"
    }
  },
  "cells": [
    {
      "cell_type": "markdown",
      "metadata": {
        "id": "view-in-github",
        "colab_type": "text"
      },
      "source": [
        "<a href=\"https://colab.research.google.com/github/juanpazmino/Bit-Prediction/blob/main/Copia_de_BitCoin_Prediction.ipynb\" target=\"_parent\"><img src=\"https://colab.research.google.com/assets/colab-badge.svg\" alt=\"Open In Colab\"/></a>"
      ]
    },
    {
      "cell_type": "code",
      "execution_count": null,
      "metadata": {
        "id": "sdlhAJEhPykT"
      },
      "outputs": [],
      "source": [
        "import pandas as pd\n",
        "import numpy as np\n",
        "import seaborn as sns\n",
        "import matplotlib.pyplot as plt \n",
        "%matplotlib inline"
      ]
    },
    {
      "cell_type": "code",
      "source": [
        "from sklearn.preprocessing import StandardScaler\n",
        "from sklearn.model_selection import train_test_split\n",
        "from sklearn.preprocessing import LabelEncoder"
      ],
      "metadata": {
        "id": "qultRzS3Q3Sm"
      },
      "execution_count": null,
      "outputs": []
    },
    {
      "cell_type": "code",
      "source": [
        "import time\n",
        "import itertools\n",
        "import warnings\n",
        "import statsmodels.api as sm\n",
        "from statsmodels.tsa.stattools import adfuller\n",
        "from statsmodels.graphics.tsaplots import plot_acf, plot_pacf\n",
        "from statsmodels.tsa.seasonal import seasonal_decompose\n",
        "from statsmodels.tsa.arima_model import ARIMA\n",
        "\n",
        "warnings.filterwarnings(\"ignore\")"
      ],
      "metadata": {
        "id": "jHr8HxlidRhu"
      },
      "execution_count": null,
      "outputs": []
    },
    {
      "cell_type": "code",
      "source": [
        "from google.colab import drive\n",
        "drive.mount('/content/drive')"
      ],
      "metadata": {
        "colab": {
          "base_uri": "https://localhost:8080/"
        },
        "id": "JyJkvb6jQ5U1",
        "outputId": "4f4d1eb1-aaa0-44d6-8547-613c2e20898a"
      },
      "execution_count": null,
      "outputs": [
        {
          "output_type": "stream",
          "name": "stdout",
          "text": [
            "Mounted at /content/drive\n"
          ]
        }
      ]
    },
    {
      "cell_type": "markdown",
      "source": [
        "#Import Data\n"
      ],
      "metadata": {
        "id": "pq1ZQqxwRA_Z"
      }
    },
    {
      "cell_type": "code",
      "source": [
        "df = pd.read_csv('/content/drive/MyDrive/Tensor Projects/Machine Learning R_27.07.21/Machine Learning Project 2 - Bitcoin Price Prediction/bitcoin.csv')"
      ],
      "metadata": {
        "id": "suvQ71gvQ88d"
      },
      "execution_count": null,
      "outputs": []
    },
    {
      "cell_type": "code",
      "source": [
        "df.info()"
      ],
      "metadata": {
        "colab": {
          "base_uri": "https://localhost:8080/"
        },
        "id": "dAtBK588RWSv",
        "outputId": "07163e93-a399-4b0d-93c2-90827a3ceedd"
      },
      "execution_count": null,
      "outputs": [
        {
          "output_type": "stream",
          "name": "stdout",
          "text": [
            "<class 'pandas.core.frame.DataFrame'>\n",
            "RangeIndex: 367 entries, 0 to 366\n",
            "Data columns (total 2 columns):\n",
            " #   Column  Non-Null Count  Dtype  \n",
            "---  ------  --------------  -----  \n",
            " 0   Date    367 non-null    object \n",
            " 1   Price   367 non-null    float64\n",
            "dtypes: float64(1), object(1)\n",
            "memory usage: 5.9+ KB\n"
          ]
        }
      ]
    },
    {
      "cell_type": "markdown",
      "source": [
        "#date as a date"
      ],
      "metadata": {
        "id": "rGmtyM_1S1eM"
      }
    },
    {
      "cell_type": "code",
      "source": [
        "df.columns = df.columns.str.replace(' ', '')"
      ],
      "metadata": {
        "id": "hG-ZdMRkRYYm"
      },
      "execution_count": null,
      "outputs": []
    },
    {
      "cell_type": "code",
      "source": [
        "df.head()"
      ],
      "metadata": {
        "colab": {
          "base_uri": "https://localhost:8080/",
          "height": 206
        },
        "id": "N67e0ce0S6TR",
        "outputId": "3cbd59ac-3556-4a20-9ff6-d6628af9f1bc"
      },
      "execution_count": null,
      "outputs": [
        {
          "output_type": "execute_result",
          "data": {
            "text/plain": [
              "        Date        Price\n",
              "0  5/23/2019  7881.846680\n",
              "1  5/24/2019  7987.371582\n",
              "2  5/25/2019  8052.543945\n",
              "3  5/26/2019  8673.215820\n",
              "4  5/27/2019  8805.778320"
            ],
            "text/html": [
              "\n",
              "  <div id=\"df-3c934042-2f92-45f0-95eb-593d8934fc8b\">\n",
              "    <div class=\"colab-df-container\">\n",
              "      <div>\n",
              "<style scoped>\n",
              "    .dataframe tbody tr th:only-of-type {\n",
              "        vertical-align: middle;\n",
              "    }\n",
              "\n",
              "    .dataframe tbody tr th {\n",
              "        vertical-align: top;\n",
              "    }\n",
              "\n",
              "    .dataframe thead th {\n",
              "        text-align: right;\n",
              "    }\n",
              "</style>\n",
              "<table border=\"1\" class=\"dataframe\">\n",
              "  <thead>\n",
              "    <tr style=\"text-align: right;\">\n",
              "      <th></th>\n",
              "      <th>Date</th>\n",
              "      <th>Price</th>\n",
              "    </tr>\n",
              "  </thead>\n",
              "  <tbody>\n",
              "    <tr>\n",
              "      <th>0</th>\n",
              "      <td>5/23/2019</td>\n",
              "      <td>7881.846680</td>\n",
              "    </tr>\n",
              "    <tr>\n",
              "      <th>1</th>\n",
              "      <td>5/24/2019</td>\n",
              "      <td>7987.371582</td>\n",
              "    </tr>\n",
              "    <tr>\n",
              "      <th>2</th>\n",
              "      <td>5/25/2019</td>\n",
              "      <td>8052.543945</td>\n",
              "    </tr>\n",
              "    <tr>\n",
              "      <th>3</th>\n",
              "      <td>5/26/2019</td>\n",
              "      <td>8673.215820</td>\n",
              "    </tr>\n",
              "    <tr>\n",
              "      <th>4</th>\n",
              "      <td>5/27/2019</td>\n",
              "      <td>8805.778320</td>\n",
              "    </tr>\n",
              "  </tbody>\n",
              "</table>\n",
              "</div>\n",
              "      <button class=\"colab-df-convert\" onclick=\"convertToInteractive('df-3c934042-2f92-45f0-95eb-593d8934fc8b')\"\n",
              "              title=\"Convert this dataframe to an interactive table.\"\n",
              "              style=\"display:none;\">\n",
              "        \n",
              "  <svg xmlns=\"http://www.w3.org/2000/svg\" height=\"24px\"viewBox=\"0 0 24 24\"\n",
              "       width=\"24px\">\n",
              "    <path d=\"M0 0h24v24H0V0z\" fill=\"none\"/>\n",
              "    <path d=\"M18.56 5.44l.94 2.06.94-2.06 2.06-.94-2.06-.94-.94-2.06-.94 2.06-2.06.94zm-11 1L8.5 8.5l.94-2.06 2.06-.94-2.06-.94L8.5 2.5l-.94 2.06-2.06.94zm10 10l.94 2.06.94-2.06 2.06-.94-2.06-.94-.94-2.06-.94 2.06-2.06.94z\"/><path d=\"M17.41 7.96l-1.37-1.37c-.4-.4-.92-.59-1.43-.59-.52 0-1.04.2-1.43.59L10.3 9.45l-7.72 7.72c-.78.78-.78 2.05 0 2.83L4 21.41c.39.39.9.59 1.41.59.51 0 1.02-.2 1.41-.59l7.78-7.78 2.81-2.81c.8-.78.8-2.07 0-2.86zM5.41 20L4 18.59l7.72-7.72 1.47 1.35L5.41 20z\"/>\n",
              "  </svg>\n",
              "      </button>\n",
              "      \n",
              "  <style>\n",
              "    .colab-df-container {\n",
              "      display:flex;\n",
              "      flex-wrap:wrap;\n",
              "      gap: 12px;\n",
              "    }\n",
              "\n",
              "    .colab-df-convert {\n",
              "      background-color: #E8F0FE;\n",
              "      border: none;\n",
              "      border-radius: 50%;\n",
              "      cursor: pointer;\n",
              "      display: none;\n",
              "      fill: #1967D2;\n",
              "      height: 32px;\n",
              "      padding: 0 0 0 0;\n",
              "      width: 32px;\n",
              "    }\n",
              "\n",
              "    .colab-df-convert:hover {\n",
              "      background-color: #E2EBFA;\n",
              "      box-shadow: 0px 1px 2px rgba(60, 64, 67, 0.3), 0px 1px 3px 1px rgba(60, 64, 67, 0.15);\n",
              "      fill: #174EA6;\n",
              "    }\n",
              "\n",
              "    [theme=dark] .colab-df-convert {\n",
              "      background-color: #3B4455;\n",
              "      fill: #D2E3FC;\n",
              "    }\n",
              "\n",
              "    [theme=dark] .colab-df-convert:hover {\n",
              "      background-color: #434B5C;\n",
              "      box-shadow: 0px 1px 3px 1px rgba(0, 0, 0, 0.15);\n",
              "      filter: drop-shadow(0px 1px 2px rgba(0, 0, 0, 0.3));\n",
              "      fill: #FFFFFF;\n",
              "    }\n",
              "  </style>\n",
              "\n",
              "      <script>\n",
              "        const buttonEl =\n",
              "          document.querySelector('#df-3c934042-2f92-45f0-95eb-593d8934fc8b button.colab-df-convert');\n",
              "        buttonEl.style.display =\n",
              "          google.colab.kernel.accessAllowed ? 'block' : 'none';\n",
              "\n",
              "        async function convertToInteractive(key) {\n",
              "          const element = document.querySelector('#df-3c934042-2f92-45f0-95eb-593d8934fc8b');\n",
              "          const dataTable =\n",
              "            await google.colab.kernel.invokeFunction('convertToInteractive',\n",
              "                                                     [key], {});\n",
              "          if (!dataTable) return;\n",
              "\n",
              "          const docLinkHtml = 'Like what you see? Visit the ' +\n",
              "            '<a target=\"_blank\" href=https://colab.research.google.com/notebooks/data_table.ipynb>data table notebook</a>'\n",
              "            + ' to learn more about interactive tables.';\n",
              "          element.innerHTML = '';\n",
              "          dataTable['output_type'] = 'display_data';\n",
              "          await google.colab.output.renderOutput(dataTable, element);\n",
              "          const docLink = document.createElement('div');\n",
              "          docLink.innerHTML = docLinkHtml;\n",
              "          element.appendChild(docLink);\n",
              "        }\n",
              "      </script>\n",
              "    </div>\n",
              "  </div>\n",
              "  "
            ]
          },
          "metadata": {},
          "execution_count": 8
        }
      ]
    },
    {
      "cell_type": "code",
      "source": [
        "df['Date']=pd.to_datetime(df[\"Date\"], format = \"%m/%d/%Y\")"
      ],
      "metadata": {
        "id": "0oLaYXQuTczC"
      },
      "execution_count": null,
      "outputs": []
    },
    {
      "cell_type": "code",
      "source": [
        "df['Date'].min()"
      ],
      "metadata": {
        "colab": {
          "base_uri": "https://localhost:8080/"
        },
        "id": "Wi78Rtn-Ubg6",
        "outputId": "d48b9218-db78-4006-ed8b-789bad163d91"
      },
      "execution_count": null,
      "outputs": [
        {
          "output_type": "execute_result",
          "data": {
            "text/plain": [
              "Timestamp('2019-05-23 00:00:00')"
            ]
          },
          "metadata": {},
          "execution_count": 10
        }
      ]
    },
    {
      "cell_type": "code",
      "source": [
        "df['Date'].max()"
      ],
      "metadata": {
        "colab": {
          "base_uri": "https://localhost:8080/"
        },
        "id": "fFwDI8QvTnh5",
        "outputId": "d6b31e77-c8f1-4e8e-fe13-b4781ec78d75"
      },
      "execution_count": null,
      "outputs": [
        {
          "output_type": "execute_result",
          "data": {
            "text/plain": [
              "Timestamp('2020-05-23 00:00:00')"
            ]
          },
          "metadata": {},
          "execution_count": 11
        }
      ]
    },
    {
      "cell_type": "code",
      "source": [
        "df=df.set_index('Date')"
      ],
      "metadata": {
        "id": "P0_F20xzUS6K"
      },
      "execution_count": null,
      "outputs": []
    },
    {
      "cell_type": "markdown",
      "source": [
        "#Groupby"
      ],
      "metadata": {
        "id": "b-ZyD68Tahua"
      }
    },
    {
      "cell_type": "code",
      "source": [
        "df = df.groupby('Date')[['Price']].sum().reset_index() #evitamos valores duplicados"
      ],
      "metadata": {
        "id": "hZDiMzabY_0e"
      },
      "execution_count": null,
      "outputs": []
    },
    {
      "cell_type": "code",
      "source": [
        "df.nunique()"
      ],
      "metadata": {
        "colab": {
          "base_uri": "https://localhost:8080/"
        },
        "id": "L_EpmoWHxIu2",
        "outputId": "d8404419-0ff9-4ea0-992e-769a28b13bc0"
      },
      "execution_count": null,
      "outputs": [
        {
          "output_type": "execute_result",
          "data": {
            "text/plain": [
              "Date     367\n",
              "Price    367\n",
              "dtype: int64"
            ]
          },
          "metadata": {},
          "execution_count": 14
        }
      ]
    },
    {
      "cell_type": "code",
      "source": [
        "df[(df['Date'].dt.year == 2020) & (df['Date'].dt.month == 5)]"
      ],
      "metadata": {
        "colab": {
          "base_uri": "https://localhost:8080/",
          "height": 771
        },
        "id": "tJqT6vEGbSD-",
        "outputId": "b5bf0e80-fdba-455f-c247-55f6a73c48f5"
      },
      "execution_count": null,
      "outputs": [
        {
          "output_type": "execute_result",
          "data": {
            "text/plain": [
              "          Date        Price\n",
              "344 2020-05-01  8864.766602\n",
              "345 2020-05-02  8988.596680\n",
              "346 2020-05-03  8897.468750\n",
              "347 2020-05-04  8912.654297\n",
              "348 2020-05-05  9003.070313\n",
              "349 2020-05-06  9268.761719\n",
              "350 2020-05-07  9951.518555\n",
              "351 2020-05-08  9842.666016\n",
              "352 2020-05-09  9593.896484\n",
              "353 2020-05-10  8756.430664\n",
              "354 2020-05-11  8601.795898\n",
              "355 2020-05-12  8804.477539\n",
              "356 2020-05-13  9269.987305\n",
              "357 2020-05-14  9733.721680\n",
              "358 2020-05-15  9328.197266\n",
              "359 2020-05-16  9377.013672\n",
              "360 2020-05-17  9670.739258\n",
              "361 2020-05-18  9726.575195\n",
              "362 2020-05-19  9729.038086\n",
              "363 2020-05-20  9522.981445\n",
              "364 2020-05-21  9081.761719\n",
              "365 2020-05-22  9182.577148\n",
              "366 2020-05-23  9180.045898"
            ],
            "text/html": [
              "\n",
              "  <div id=\"df-87152ea9-4ed7-4408-a4b5-e3a87765abaa\">\n",
              "    <div class=\"colab-df-container\">\n",
              "      <div>\n",
              "<style scoped>\n",
              "    .dataframe tbody tr th:only-of-type {\n",
              "        vertical-align: middle;\n",
              "    }\n",
              "\n",
              "    .dataframe tbody tr th {\n",
              "        vertical-align: top;\n",
              "    }\n",
              "\n",
              "    .dataframe thead th {\n",
              "        text-align: right;\n",
              "    }\n",
              "</style>\n",
              "<table border=\"1\" class=\"dataframe\">\n",
              "  <thead>\n",
              "    <tr style=\"text-align: right;\">\n",
              "      <th></th>\n",
              "      <th>Date</th>\n",
              "      <th>Price</th>\n",
              "    </tr>\n",
              "  </thead>\n",
              "  <tbody>\n",
              "    <tr>\n",
              "      <th>344</th>\n",
              "      <td>2020-05-01</td>\n",
              "      <td>8864.766602</td>\n",
              "    </tr>\n",
              "    <tr>\n",
              "      <th>345</th>\n",
              "      <td>2020-05-02</td>\n",
              "      <td>8988.596680</td>\n",
              "    </tr>\n",
              "    <tr>\n",
              "      <th>346</th>\n",
              "      <td>2020-05-03</td>\n",
              "      <td>8897.468750</td>\n",
              "    </tr>\n",
              "    <tr>\n",
              "      <th>347</th>\n",
              "      <td>2020-05-04</td>\n",
              "      <td>8912.654297</td>\n",
              "    </tr>\n",
              "    <tr>\n",
              "      <th>348</th>\n",
              "      <td>2020-05-05</td>\n",
              "      <td>9003.070313</td>\n",
              "    </tr>\n",
              "    <tr>\n",
              "      <th>349</th>\n",
              "      <td>2020-05-06</td>\n",
              "      <td>9268.761719</td>\n",
              "    </tr>\n",
              "    <tr>\n",
              "      <th>350</th>\n",
              "      <td>2020-05-07</td>\n",
              "      <td>9951.518555</td>\n",
              "    </tr>\n",
              "    <tr>\n",
              "      <th>351</th>\n",
              "      <td>2020-05-08</td>\n",
              "      <td>9842.666016</td>\n",
              "    </tr>\n",
              "    <tr>\n",
              "      <th>352</th>\n",
              "      <td>2020-05-09</td>\n",
              "      <td>9593.896484</td>\n",
              "    </tr>\n",
              "    <tr>\n",
              "      <th>353</th>\n",
              "      <td>2020-05-10</td>\n",
              "      <td>8756.430664</td>\n",
              "    </tr>\n",
              "    <tr>\n",
              "      <th>354</th>\n",
              "      <td>2020-05-11</td>\n",
              "      <td>8601.795898</td>\n",
              "    </tr>\n",
              "    <tr>\n",
              "      <th>355</th>\n",
              "      <td>2020-05-12</td>\n",
              "      <td>8804.477539</td>\n",
              "    </tr>\n",
              "    <tr>\n",
              "      <th>356</th>\n",
              "      <td>2020-05-13</td>\n",
              "      <td>9269.987305</td>\n",
              "    </tr>\n",
              "    <tr>\n",
              "      <th>357</th>\n",
              "      <td>2020-05-14</td>\n",
              "      <td>9733.721680</td>\n",
              "    </tr>\n",
              "    <tr>\n",
              "      <th>358</th>\n",
              "      <td>2020-05-15</td>\n",
              "      <td>9328.197266</td>\n",
              "    </tr>\n",
              "    <tr>\n",
              "      <th>359</th>\n",
              "      <td>2020-05-16</td>\n",
              "      <td>9377.013672</td>\n",
              "    </tr>\n",
              "    <tr>\n",
              "      <th>360</th>\n",
              "      <td>2020-05-17</td>\n",
              "      <td>9670.739258</td>\n",
              "    </tr>\n",
              "    <tr>\n",
              "      <th>361</th>\n",
              "      <td>2020-05-18</td>\n",
              "      <td>9726.575195</td>\n",
              "    </tr>\n",
              "    <tr>\n",
              "      <th>362</th>\n",
              "      <td>2020-05-19</td>\n",
              "      <td>9729.038086</td>\n",
              "    </tr>\n",
              "    <tr>\n",
              "      <th>363</th>\n",
              "      <td>2020-05-20</td>\n",
              "      <td>9522.981445</td>\n",
              "    </tr>\n",
              "    <tr>\n",
              "      <th>364</th>\n",
              "      <td>2020-05-21</td>\n",
              "      <td>9081.761719</td>\n",
              "    </tr>\n",
              "    <tr>\n",
              "      <th>365</th>\n",
              "      <td>2020-05-22</td>\n",
              "      <td>9182.577148</td>\n",
              "    </tr>\n",
              "    <tr>\n",
              "      <th>366</th>\n",
              "      <td>2020-05-23</td>\n",
              "      <td>9180.045898</td>\n",
              "    </tr>\n",
              "  </tbody>\n",
              "</table>\n",
              "</div>\n",
              "      <button class=\"colab-df-convert\" onclick=\"convertToInteractive('df-87152ea9-4ed7-4408-a4b5-e3a87765abaa')\"\n",
              "              title=\"Convert this dataframe to an interactive table.\"\n",
              "              style=\"display:none;\">\n",
              "        \n",
              "  <svg xmlns=\"http://www.w3.org/2000/svg\" height=\"24px\"viewBox=\"0 0 24 24\"\n",
              "       width=\"24px\">\n",
              "    <path d=\"M0 0h24v24H0V0z\" fill=\"none\"/>\n",
              "    <path d=\"M18.56 5.44l.94 2.06.94-2.06 2.06-.94-2.06-.94-.94-2.06-.94 2.06-2.06.94zm-11 1L8.5 8.5l.94-2.06 2.06-.94-2.06-.94L8.5 2.5l-.94 2.06-2.06.94zm10 10l.94 2.06.94-2.06 2.06-.94-2.06-.94-.94-2.06-.94 2.06-2.06.94z\"/><path d=\"M17.41 7.96l-1.37-1.37c-.4-.4-.92-.59-1.43-.59-.52 0-1.04.2-1.43.59L10.3 9.45l-7.72 7.72c-.78.78-.78 2.05 0 2.83L4 21.41c.39.39.9.59 1.41.59.51 0 1.02-.2 1.41-.59l7.78-7.78 2.81-2.81c.8-.78.8-2.07 0-2.86zM5.41 20L4 18.59l7.72-7.72 1.47 1.35L5.41 20z\"/>\n",
              "  </svg>\n",
              "      </button>\n",
              "      \n",
              "  <style>\n",
              "    .colab-df-container {\n",
              "      display:flex;\n",
              "      flex-wrap:wrap;\n",
              "      gap: 12px;\n",
              "    }\n",
              "\n",
              "    .colab-df-convert {\n",
              "      background-color: #E8F0FE;\n",
              "      border: none;\n",
              "      border-radius: 50%;\n",
              "      cursor: pointer;\n",
              "      display: none;\n",
              "      fill: #1967D2;\n",
              "      height: 32px;\n",
              "      padding: 0 0 0 0;\n",
              "      width: 32px;\n",
              "    }\n",
              "\n",
              "    .colab-df-convert:hover {\n",
              "      background-color: #E2EBFA;\n",
              "      box-shadow: 0px 1px 2px rgba(60, 64, 67, 0.3), 0px 1px 3px 1px rgba(60, 64, 67, 0.15);\n",
              "      fill: #174EA6;\n",
              "    }\n",
              "\n",
              "    [theme=dark] .colab-df-convert {\n",
              "      background-color: #3B4455;\n",
              "      fill: #D2E3FC;\n",
              "    }\n",
              "\n",
              "    [theme=dark] .colab-df-convert:hover {\n",
              "      background-color: #434B5C;\n",
              "      box-shadow: 0px 1px 3px 1px rgba(0, 0, 0, 0.15);\n",
              "      filter: drop-shadow(0px 1px 2px rgba(0, 0, 0, 0.3));\n",
              "      fill: #FFFFFF;\n",
              "    }\n",
              "  </style>\n",
              "\n",
              "      <script>\n",
              "        const buttonEl =\n",
              "          document.querySelector('#df-87152ea9-4ed7-4408-a4b5-e3a87765abaa button.colab-df-convert');\n",
              "        buttonEl.style.display =\n",
              "          google.colab.kernel.accessAllowed ? 'block' : 'none';\n",
              "\n",
              "        async function convertToInteractive(key) {\n",
              "          const element = document.querySelector('#df-87152ea9-4ed7-4408-a4b5-e3a87765abaa');\n",
              "          const dataTable =\n",
              "            await google.colab.kernel.invokeFunction('convertToInteractive',\n",
              "                                                     [key], {});\n",
              "          if (!dataTable) return;\n",
              "\n",
              "          const docLinkHtml = 'Like what you see? Visit the ' +\n",
              "            '<a target=\"_blank\" href=https://colab.research.google.com/notebooks/data_table.ipynb>data table notebook</a>'\n",
              "            + ' to learn more about interactive tables.';\n",
              "          element.innerHTML = '';\n",
              "          dataTable['output_type'] = 'display_data';\n",
              "          await google.colab.output.renderOutput(dataTable, element);\n",
              "          const docLink = document.createElement('div');\n",
              "          docLink.innerHTML = docLinkHtml;\n",
              "          element.appendChild(docLink);\n",
              "        }\n",
              "      </script>\n",
              "    </div>\n",
              "  </div>\n",
              "  "
            ]
          },
          "metadata": {},
          "execution_count": 15
        }
      ]
    },
    {
      "cell_type": "code",
      "source": [
        "df = df.set_index('Date')"
      ],
      "metadata": {
        "id": "cCRo8tfzbWze"
      },
      "execution_count": null,
      "outputs": []
    },
    {
      "cell_type": "code",
      "source": [
        "df.plot(figsize=(15, 6))\n",
        "plt.show()"
      ],
      "metadata": {
        "colab": {
          "base_uri": "https://localhost:8080/",
          "height": 400
        },
        "id": "hsUkvzX3eerI",
        "outputId": "dd3bd468-f52a-4838-dab6-caefa236c592"
      },
      "execution_count": null,
      "outputs": [
        {
          "output_type": "display_data",
          "data": {
            "text/plain": [
              "<Figure size 1080x432 with 1 Axes>"
            ],
            "image/png": "[encoded data removed]"
          },
          "metadata": {
            "needs_background": "light"
          }
        }
      ]
    },
    {
      "cell_type": "markdown",
      "source": [
        "#Generamos Lags\n"
      ],
      "metadata": {
        "id": "CcaUTJyiHdpo"
      }
    },
    {
      "cell_type": "code",
      "source": [
        "df['Lag1'] = df['Price'].shift(1)\n",
        "df['Lag2'] = df['Price'].shift(2)\n",
        "df['Lag3'] = df['Price'].shift(3)\n",
        "df.head()"
      ],
      "metadata": {
        "colab": {
          "base_uri": "https://localhost:8080/",
          "height": 238
        },
        "id": "TBbn8qBKHdT4",
        "outputId": "54d4b85b-e4c2-40ef-93f6-edbf5bf02116"
      },
      "execution_count": null,
      "outputs": [
        {
          "output_type": "execute_result",
          "data": {
            "text/plain": [
              "                  Price         Lag1         Lag2         Lag3\n",
              "Date                                                          \n",
              "2019-05-23  7881.846680          NaN          NaN          NaN\n",
              "2019-05-24  7987.371582  7881.846680          NaN          NaN\n",
              "2019-05-25  8052.543945  7987.371582  7881.846680          NaN\n",
              "2019-05-26  8673.215820  8052.543945  7987.371582  7881.846680\n",
              "2019-05-27  8805.778320  8673.215820  8052.543945  7987.371582"
            ],
            "text/html": [
              "\n",
              "  <div id=\"df-3facf870-7e8f-4b20-8f63-b78fc951e5e9\">\n",
              "    <div class=\"colab-df-container\">\n",
              "      <div>\n",
              "<style scoped>\n",
              "    .dataframe tbody tr th:only-of-type {\n",
              "        vertical-align: middle;\n",
              "    }\n",
              "\n",
              "    .dataframe tbody tr th {\n",
              "        vertical-align: top;\n",
              "    }\n",
              "\n",
              "    .dataframe thead th {\n",
              "        text-align: right;\n",
              "    }\n",
              "</style>\n",
              "<table border=\"1\" class=\"dataframe\">\n",
              "  <thead>\n",
              "    <tr style=\"text-align: right;\">\n",
              "      <th></th>\n",
              "      <th>Price</th>\n",
              "      <th>Lag1</th>\n",
              "      <th>Lag2</th>\n",
              "      <th>Lag3</th>\n",
              "    </tr>\n",
              "    <tr>\n",
              "      <th>Date</th>\n",
              "      <th></th>\n",
              "      <th></th>\n",
              "      <th></th>\n",
              "      <th></th>\n",
              "    </tr>\n",
              "  </thead>\n",
              "  <tbody>\n",
              "    <tr>\n",
              "      <th>2019-05-23</th>\n",
              "      <td>7881.846680</td>\n",
              "      <td>NaN</td>\n",
              "      <td>NaN</td>\n",
              "      <td>NaN</td>\n",
              "    </tr>\n",
              "    <tr>\n",
              "      <th>2019-05-24</th>\n",
              "      <td>7987.371582</td>\n",
              "      <td>7881.846680</td>\n",
              "      <td>NaN</td>\n",
              "      <td>NaN</td>\n",
              "    </tr>\n",
              "    <tr>\n",
              "      <th>2019-05-25</th>\n",
              "      <td>8052.543945</td>\n",
              "      <td>7987.371582</td>\n",
              "      <td>7881.846680</td>\n",
              "      <td>NaN</td>\n",
              "    </tr>\n",
              "    <tr>\n",
              "      <th>2019-05-26</th>\n",
              "      <td>8673.215820</td>\n",
              "      <td>8052.543945</td>\n",
              "      <td>7987.371582</td>\n",
              "      <td>7881.846680</td>\n",
              "    </tr>\n",
              "    <tr>\n",
              "      <th>2019-05-27</th>\n",
              "      <td>8805.778320</td>\n",
              "      <td>8673.215820</td>\n",
              "      <td>8052.543945</td>\n",
              "      <td>7987.371582</td>\n",
              "    </tr>\n",
              "  </tbody>\n",
              "</table>\n",
              "</div>\n",
              "      <button class=\"colab-df-convert\" onclick=\"convertToInteractive('df-3facf870-7e8f-4b20-8f63-b78fc951e5e9')\"\n",
              "              title=\"Convert this dataframe to an interactive table.\"\n",
              "              style=\"display:none;\">\n",
              "        \n",
              "  <svg xmlns=\"http://www.w3.org/2000/svg\" height=\"24px\"viewBox=\"0 0 24 24\"\n",
              "       width=\"24px\">\n",
              "    <path d=\"M0 0h24v24H0V0z\" fill=\"none\"/>\n",
              "    <path d=\"M18.56 5.44l.94 2.06.94-2.06 2.06-.94-2.06-.94-.94-2.06-.94 2.06-2.06.94zm-11 1L8.5 8.5l.94-2.06 2.06-.94-2.06-.94L8.5 2.5l-.94 2.06-2.06.94zm10 10l.94 2.06.94-2.06 2.06-.94-2.06-.94-.94-2.06-.94 2.06-2.06.94z\"/><path d=\"M17.41 7.96l-1.37-1.37c-.4-.4-.92-.59-1.43-.59-.52 0-1.04.2-1.43.59L10.3 9.45l-7.72 7.72c-.78.78-.78 2.05 0 2.83L4 21.41c.39.39.9.59 1.41.59.51 0 1.02-.2 1.41-.59l7.78-7.78 2.81-2.81c.8-.78.8-2.07 0-2.86zM5.41 20L4 18.59l7.72-7.72 1.47 1.35L5.41 20z\"/>\n",
              "  </svg>\n",
              "      </button>\n",
              "      \n",
              "  <style>\n",
              "    .colab-df-container {\n",
              "      display:flex;\n",
              "      flex-wrap:wrap;\n",
              "      gap: 12px;\n",
              "    }\n",
              "\n",
              "    .colab-df-convert {\n",
              "      background-color: #E8F0FE;\n",
              "      border: none;\n",
              "      border-radius: 50%;\n",
              "      cursor: pointer;\n",
              "      display: none;\n",
              "      fill: #1967D2;\n",
              "      height: 32px;\n",
              "      padding: 0 0 0 0;\n",
              "      width: 32px;\n",
              "    }\n",
              "\n",
              "    .colab-df-convert:hover {\n",
              "      background-color: #E2EBFA;\n",
              "      box-shadow: 0px 1px 2px rgba(60, 64, 67, 0.3), 0px 1px 3px 1px rgba(60, 64, 67, 0.15);\n",
              "      fill: #174EA6;\n",
              "    }\n",
              "\n",
              "    [theme=dark] .colab-df-convert {\n",
              "      background-color: #3B4455;\n",
              "      fill: #D2E3FC;\n",
              "    }\n",
              "\n",
              "    [theme=dark] .colab-df-convert:hover {\n",
              "      background-color: #434B5C;\n",
              "      box-shadow: 0px 1px 3px 1px rgba(0, 0, 0, 0.15);\n",
              "      filter: drop-shadow(0px 1px 2px rgba(0, 0, 0, 0.3));\n",
              "      fill: #FFFFFF;\n",
              "    }\n",
              "  </style>\n",
              "\n",
              "      <script>\n",
              "        const buttonEl =\n",
              "          document.querySelector('#df-3facf870-7e8f-4b20-8f63-b78fc951e5e9 button.colab-df-convert');\n",
              "        buttonEl.style.display =\n",
              "          google.colab.kernel.accessAllowed ? 'block' : 'none';\n",
              "\n",
              "        async function convertToInteractive(key) {\n",
              "          const element = document.querySelector('#df-3facf870-7e8f-4b20-8f63-b78fc951e5e9');\n",
              "          const dataTable =\n",
              "            await google.colab.kernel.invokeFunction('convertToInteractive',\n",
              "                                                     [key], {});\n",
              "          if (!dataTable) return;\n",
              "\n",
              "          const docLinkHtml = 'Like what you see? Visit the ' +\n",
              "            '<a target=\"_blank\" href=https://colab.research.google.com/notebooks/data_table.ipynb>data table notebook</a>'\n",
              "            + ' to learn more about interactive tables.';\n",
              "          element.innerHTML = '';\n",
              "          dataTable['output_type'] = 'display_data';\n",
              "          await google.colab.output.renderOutput(dataTable, element);\n",
              "          const docLink = document.createElement('div');\n",
              "          docLink.innerHTML = docLinkHtml;\n",
              "          element.appendChild(docLink);\n",
              "        }\n",
              "      </script>\n",
              "    </div>\n",
              "  </div>\n",
              "  "
            ]
          },
          "metadata": {},
          "execution_count": 18
        }
      ]
    },
    {
      "cell_type": "markdown",
      "source": [
        "#Generamos MAs\n"
      ],
      "metadata": {
        "id": "SfHTjzdYHug9"
      }
    },
    {
      "cell_type": "code",
      "source": [
        "df['MA_3']= df['Price'].rolling(window=3).mean()\n",
        "df['MA_4']= df['Price'].rolling(window=4).mean()\n",
        "df['MA_5']= df['Price'].rolling(window=5).mean()\n",
        "df.head()"
      ],
      "metadata": {
        "colab": {
          "base_uri": "https://localhost:8080/",
          "height": 238
        },
        "id": "cFvKR38-Htzl",
        "outputId": "decc50a0-c2b8-43e1-93ed-c56b9724d339"
      },
      "execution_count": null,
      "outputs": [
        {
          "output_type": "execute_result",
          "data": {
            "text/plain": [
              "                  Price         Lag1         Lag2         Lag3         MA_3  \\\n",
              "Date                                                                          \n",
              "2019-05-23  7881.846680          NaN          NaN          NaN          NaN   \n",
              "2019-05-24  7987.371582  7881.846680          NaN          NaN          NaN   \n",
              "2019-05-25  8052.543945  7987.371582  7881.846680          NaN  7973.920736   \n",
              "2019-05-26  8673.215820  8052.543945  7987.371582  7881.846680  8237.710449   \n",
              "2019-05-27  8805.778320  8673.215820  8052.543945  7987.371582  8510.512695   \n",
              "\n",
              "                   MA_4         MA_5  \n",
              "Date                                  \n",
              "2019-05-23          NaN          NaN  \n",
              "2019-05-24          NaN          NaN  \n",
              "2019-05-25          NaN          NaN  \n",
              "2019-05-26  8148.744507          NaN  \n",
              "2019-05-27  8379.727417  8280.151269  "
            ],
            "text/html": [
              "\n",
              "  <div id=\"df-75440df7-22a6-49ad-a612-59ed9646c2fe\">\n",
              "    <div class=\"colab-df-container\">\n",
              "      <div>\n",
              "<style scoped>\n",
              "    .dataframe tbody tr th:only-of-type {\n",
              "        vertical-align: middle;\n",
              "    }\n",
              "\n",
              "    .dataframe tbody tr th {\n",
              "        vertical-align: top;\n",
              "    }\n",
              "\n",
              "    .dataframe thead th {\n",
              "        text-align: right;\n",
              "    }\n",
              "</style>\n",
              "<table border=\"1\" class=\"dataframe\">\n",
              "  <thead>\n",
              "    <tr style=\"text-align: right;\">\n",
              "      <th></th>\n",
              "      <th>Price</th>\n",
              "      <th>Lag1</th>\n",
              "      <th>Lag2</th>\n",
              "      <th>Lag3</th>\n",
              "      <th>MA_3</th>\n",
              "      <th>MA_4</th>\n",
              "      <th>MA_5</th>\n",
              "    </tr>\n",
              "    <tr>\n",
              "      <th>Date</th>\n",
              "      <th></th>\n",
              "      <th></th>\n",
              "      <th></th>\n",
              "      <th></th>\n",
              "      <th></th>\n",
              "      <th></th>\n",
              "      <th></th>\n",
              "    </tr>\n",
              "  </thead>\n",
              "  <tbody>\n",
              "    <tr>\n",
              "      <th>2019-05-23</th>\n",
              "      <td>7881.846680</td>\n",
              "      <td>NaN</td>\n",
              "      <td>NaN</td>\n",
              "      <td>NaN</td>\n",
              "      <td>NaN</td>\n",
              "      <td>NaN</td>\n",
              "      <td>NaN</td>\n",
              "    </tr>\n",
              "    <tr>\n",
              "      <th>2019-05-24</th>\n",
              "      <td>7987.371582</td>\n",
              "      <td>7881.846680</td>\n",
              "      <td>NaN</td>\n",
              "      <td>NaN</td>\n",
              "      <td>NaN</td>\n",
              "      <td>NaN</td>\n",
              "      <td>NaN</td>\n",
              "    </tr>\n",
              "    <tr>\n",
              "      <th>2019-05-25</th>\n",
              "      <td>8052.543945</td>\n",
              "      <td>7987.371582</td>\n",
              "      <td>7881.846680</td>\n",
              "      <td>NaN</td>\n",
              "      <td>7973.920736</td>\n",
              "      <td>NaN</td>\n",
              "      <td>NaN</td>\n",
              "    </tr>\n",
              "    <tr>\n",
              "      <th>2019-05-26</th>\n",
              "      <td>8673.215820</td>\n",
              "      <td>8052.543945</td>\n",
              "      <td>7987.371582</td>\n",
              "      <td>7881.846680</td>\n",
              "      <td>8237.710449</td>\n",
              "      <td>8148.744507</td>\n",
              "      <td>NaN</td>\n",
              "    </tr>\n",
              "    <tr>\n",
              "      <th>2019-05-27</th>\n",
              "      <td>8805.778320</td>\n",
              "      <td>8673.215820</td>\n",
              "      <td>8052.543945</td>\n",
              "      <td>7987.371582</td>\n",
              "      <td>8510.512695</td>\n",
              "      <td>8379.727417</td>\n",
              "      <td>8280.151269</td>\n",
              "    </tr>\n",
              "  </tbody>\n",
              "</table>\n",
              "</div>\n",
              "      <button class=\"colab-df-convert\" onclick=\"convertToInteractive('df-75440df7-22a6-49ad-a612-59ed9646c2fe')\"\n",
              "              title=\"Convert this dataframe to an interactive table.\"\n",
              "              style=\"display:none;\">\n",
              "        \n",
              "  <svg xmlns=\"http://www.w3.org/2000/svg\" height=\"24px\"viewBox=\"0 0 24 24\"\n",
              "       width=\"24px\">\n",
              "    <path d=\"M0 0h24v24H0V0z\" fill=\"none\"/>\n",
              "    <path d=\"M18.56 5.44l.94 2.06.94-2.06 2.06-.94-2.06-.94-.94-2.06-.94 2.06-2.06.94zm-11 1L8.5 8.5l.94-2.06 2.06-.94-2.06-.94L8.5 2.5l-.94 2.06-2.06.94zm10 10l.94 2.06.94-2.06 2.06-.94-2.06-.94-.94-2.06-.94 2.06-2.06.94z\"/><path d=\"M17.41 7.96l-1.37-1.37c-.4-.4-.92-.59-1.43-.59-.52 0-1.04.2-1.43.59L10.3 9.45l-7.72 7.72c-.78.78-.78 2.05 0 2.83L4 21.41c.39.39.9.59 1.41.59.51 0 1.02-.2 1.41-.59l7.78-7.78 2.81-2.81c.8-.78.8-2.07 0-2.86zM5.41 20L4 18.59l7.72-7.72 1.47 1.35L5.41 20z\"/>\n",
              "  </svg>\n",
              "      </button>\n",
              "      \n",
              "  <style>\n",
              "    .colab-df-container {\n",
              "      display:flex;\n",
              "      flex-wrap:wrap;\n",
              "      gap: 12px;\n",
              "    }\n",
              "\n",
              "    .colab-df-convert {\n",
              "      background-color: #E8F0FE;\n",
              "      border: none;\n",
              "      border-radius: 50%;\n",
              "      cursor: pointer;\n",
              "      display: none;\n",
              "      fill: #1967D2;\n",
              "      height: 32px;\n",
              "      padding: 0 0 0 0;\n",
              "      width: 32px;\n",
              "    }\n",
              "\n",
              "    .colab-df-convert:hover {\n",
              "      background-color: #E2EBFA;\n",
              "      box-shadow: 0px 1px 2px rgba(60, 64, 67, 0.3), 0px 1px 3px 1px rgba(60, 64, 67, 0.15);\n",
              "      fill: #174EA6;\n",
              "    }\n",
              "\n",
              "    [theme=dark] .colab-df-convert {\n",
              "      background-color: #3B4455;\n",
              "      fill: #D2E3FC;\n",
              "    }\n",
              "\n",
              "    [theme=dark] .colab-df-convert:hover {\n",
              "      background-color: #434B5C;\n",
              "      box-shadow: 0px 1px 3px 1px rgba(0, 0, 0, 0.15);\n",
              "      filter: drop-shadow(0px 1px 2px rgba(0, 0, 0, 0.3));\n",
              "      fill: #FFFFFF;\n",
              "    }\n",
              "  </style>\n",
              "\n",
              "      <script>\n",
              "        const buttonEl =\n",
              "          document.querySelector('#df-75440df7-22a6-49ad-a612-59ed9646c2fe button.colab-df-convert');\n",
              "        buttonEl.style.display =\n",
              "          google.colab.kernel.accessAllowed ? 'block' : 'none';\n",
              "\n",
              "        async function convertToInteractive(key) {\n",
              "          const element = document.querySelector('#df-75440df7-22a6-49ad-a612-59ed9646c2fe');\n",
              "          const dataTable =\n",
              "            await google.colab.kernel.invokeFunction('convertToInteractive',\n",
              "                                                     [key], {});\n",
              "          if (!dataTable) return;\n",
              "\n",
              "          const docLinkHtml = 'Like what you see? Visit the ' +\n",
              "            '<a target=\"_blank\" href=https://colab.research.google.com/notebooks/data_table.ipynb>data table notebook</a>'\n",
              "            + ' to learn more about interactive tables.';\n",
              "          element.innerHTML = '';\n",
              "          dataTable['output_type'] = 'display_data';\n",
              "          await google.colab.output.renderOutput(dataTable, element);\n",
              "          const docLink = document.createElement('div');\n",
              "          docLink.innerHTML = docLinkHtml;\n",
              "          element.appendChild(docLink);\n",
              "        }\n",
              "      </script>\n",
              "    </div>\n",
              "  </div>\n",
              "  "
            ]
          },
          "metadata": {},
          "execution_count": 19
        }
      ]
    },
    {
      "cell_type": "code",
      "source": [
        "(8673.215820+7987.371582+8052.543945)/3"
      ],
      "metadata": {
        "colab": {
          "base_uri": "https://localhost:8080/"
        },
        "id": "sGMxrmAIMxzx",
        "outputId": "18530e11-da46-4879-cf63-827889562a9b"
      },
      "execution_count": null,
      "outputs": [
        {
          "output_type": "execute_result",
          "data": {
            "text/plain": [
              "8237.710449"
            ]
          },
          "metadata": {},
          "execution_count": 25
        }
      ]
    },
    {
      "cell_type": "markdown",
      "source": [
        "#Grafico Corr"
      ],
      "metadata": {
        "id": "hyhgIGBMIF3F"
      }
    },
    {
      "cell_type": "code",
      "source": [
        "LAGS=20\n",
        "plot_acf(x= df['Price'],lags=LAGS);"
      ],
      "metadata": {
        "colab": {
          "base_uri": "https://localhost:8080/",
          "height": 281
        },
        "id": "WNKZmgf8IHty",
        "outputId": "3fddca0b-3940-48ff-da84-9a7bf962570d"
      },
      "execution_count": null,
      "outputs": [
        {
          "output_type": "display_data",
          "data": {
            "text/plain": [
              "<Figure size 432x288 with 1 Axes>"
            ],
            "image/png": "[encoded data removed]"
          },
          "metadata": {
            "needs_background": "light"
          }
        }
      ]
    },
    {
      "cell_type": "code",
      "source": [
        "fig= plt.figure(figsize=(20,5))\n",
        "\n",
        "ax1,ax2 = fig.subplots(1,2)\n",
        "\n",
        "LAGS= 20\n",
        "\n",
        "plot_acf(x= df['Price'],lags=LAGS, ax=ax1)\n",
        "plot_pacf(x= df['Price'],lags=LAGS, ax=ax2);"
      ],
      "metadata": {
        "colab": {
          "base_uri": "https://localhost:8080/",
          "height": 336
        },
        "id": "HIhm4_yJIg7W",
        "outputId": "e4f9609c-74ae-4598-e609-3a9e8026f5f5"
      },
      "execution_count": null,
      "outputs": [
        {
          "output_type": "display_data",
          "data": {
            "text/plain": [
              "<Figure size 1440x360 with 2 Axes>"
            ],
            "image/png": "[encoded data removed]"
          },
          "metadata": {
            "needs_background": "light"
          }
        }
      ]
    },
    {
      "cell_type": "code",
      "source": [
        "result = adfuller(x= df['Price'])"
      ],
      "metadata": {
        "id": "MNvIPjQoIvUv"
      },
      "execution_count": null,
      "outputs": []
    },
    {
      "cell_type": "code",
      "source": [
        "result[1] ## si es inferior a 0.05 es pi value indica que es una serie estacionaria"
      ],
      "metadata": {
        "colab": {
          "base_uri": "https://localhost:8080/"
        },
        "id": "CZXK1Rn0IyRs",
        "outputId": "4192999a-187f-4d5c-9a60-362409653c2c"
      },
      "execution_count": null,
      "outputs": [
        {
          "output_type": "execute_result",
          "data": {
            "text/plain": [
              "0.12123781073112527"
            ]
          },
          "metadata": {},
          "execution_count": 27
        }
      ]
    },
    {
      "cell_type": "markdown",
      "source": [
        "#Split Train and Test"
      ],
      "metadata": {
        "id": "XR0Idp-_QRpN"
      }
    },
    {
      "cell_type": "code",
      "source": [
        "df['Price'].head()"
      ],
      "metadata": {
        "colab": {
          "base_uri": "https://localhost:8080/"
        },
        "id": "4IJ-h0l9SWVd",
        "outputId": "1a01a8b9-dc4f-49dc-bf90-2f0fa3658f11"
      },
      "execution_count": null,
      "outputs": [
        {
          "output_type": "execute_result",
          "data": {
            "text/plain": [
              "Date\n",
              "2019-05-23    7881.846680\n",
              "2019-05-24    7987.371582\n",
              "2019-05-25    8052.543945\n",
              "2019-05-26    8673.215820\n",
              "2019-05-27    8805.778320\n",
              "Name: Price, dtype: float64"
            ]
          },
          "metadata": {},
          "execution_count": 34
        }
      ]
    },
    {
      "cell_type": "code",
      "source": [
        "serie_predecir = df['Price']"
      ],
      "metadata": {
        "id": "esBO394f46kz"
      },
      "execution_count": null,
      "outputs": []
    },
    {
      "cell_type": "code",
      "source": [
        "'''y_index = serie_predecir.index\n",
        "\n",
        "date_train = int(len(y_index)*0.8)\n",
        "'''"
      ],
      "metadata": {
        "id": "if6aDOgQQNAa"
      },
      "execution_count": null,
      "outputs": []
    },
    {
      "cell_type": "code",
      "source": [
        "'''serie_train = serie_predecir[y_index[:date_train]]\n",
        "serie_test = serie_predecir[y_index[date_train:len(y_index)]]''' #--> no separo por la poca cantidad de datos"
      ],
      "metadata": {
        "id": "Deo4G4wWTDcq"
      },
      "execution_count": null,
      "outputs": []
    },
    {
      "cell_type": "code",
      "source": [
        "#serie_train.tail()"
      ],
      "metadata": {
        "colab": {
          "base_uri": "https://localhost:8080/"
        },
        "id": "dc6wtvplTOPj",
        "outputId": "995f917f-6018-453f-c552-65f79b5bd753"
      },
      "execution_count": null,
      "outputs": [
        {
          "output_type": "execute_result",
          "data": {
            "text/plain": [
              "Date\n",
              "2020-03-06    9122.545898\n",
              "2020-03-07    8909.954102\n",
              "2020-03-08    8108.116211\n",
              "2020-03-09    7923.644531\n",
              "2020-03-10    7909.729492\n",
              "Name: Price, dtype: float64"
            ]
          },
          "metadata": {},
          "execution_count": 37
        }
      ]
    },
    {
      "cell_type": "code",
      "source": [
        "#serie_test.head()"
      ],
      "metadata": {
        "colab": {
          "base_uri": "https://localhost:8080/"
        },
        "id": "FHoFXHgITRVV",
        "outputId": "2c6461aa-27bb-4b3f-b8a3-520a76f1d123"
      },
      "execution_count": null,
      "outputs": [
        {
          "output_type": "execute_result",
          "data": {
            "text/plain": [
              "Date\n",
              "2020-03-11    7911.430176\n",
              "2020-03-12    4970.788086\n",
              "2020-03-13    5563.707031\n",
              "2020-03-14    5200.366211\n",
              "2020-03-15    5392.314941\n",
              "Name: Price, dtype: float64"
            ]
          },
          "metadata": {},
          "execution_count": 38
        }
      ]
    },
    {
      "cell_type": "markdown",
      "source": [
        "#ARIMA Train 2"
      ],
      "metadata": {
        "id": "77T90eMsYFdL"
      }
    },
    {
      "cell_type": "code",
      "source": [
        "p = d = q = range(0, 3)\n",
        "pdq = list(itertools.product(p, d, q))"
      ],
      "metadata": {
        "id": "jP0ImoQSVYmn"
      },
      "execution_count": null,
      "outputs": []
    },
    {
      "cell_type": "code",
      "source": [
        "seasonal_pdq = [(x[0], x[1], x[2], 12) for x in list(itertools.product(p, d, q))]"
      ],
      "metadata": {
        "id": "eazVeDaxVcYC"
      },
      "execution_count": null,
      "outputs": []
    },
    {
      "cell_type": "code",
      "source": [
        "st = time.time()\n",
        "\n",
        "best_score = 0\n",
        "best_params = None\n",
        "best_seasonal_params = None\n",
        "\n",
        "for param in pdq:\n",
        "    for param_seasonal in seasonal_pdq:\n",
        "        try:\n",
        "            \n",
        "            mod = sm.tsa.statespace.SARIMAX(serie_predecir,\n",
        "                                            order=param,\n",
        "                                            seasonal_order=param_seasonal,\n",
        "                                            enforce_stationarity = False,\n",
        "                                            enforce_invertibility = False)\n",
        "\n",
        "            results = mod.fit()\n",
        "\n",
        "            print('ARIMA{}x{}12 - AIC:{}'.format(param, param_seasonal, results.aic))\n",
        "            \n",
        "            # guardamos el mejor resultado\n",
        "            if best_score == 0:\n",
        "                best_score = results.aic\n",
        "                best_params = param\n",
        "                best_seasonal_params = param_seasonal\n",
        "                \n",
        "            elif abs(results.aic) < abs(best_score):\n",
        "                best_score = results.aic\n",
        "                best_params = param\n",
        "                best_seasonal_params = param_seasonal\n",
        "            \n",
        "        # alguna combinación de parámetros en SARIMAX, no son válidos\n",
        "        # y los vamos a cazar con un except\n",
        "        except:\n",
        "            continue\n",
        "\n",
        "et = time.time()\n",
        "\n",
        "print(\"La búsqueda de parámetros no ha llevado {} minutos!\".format((et - st)/60))"
      ],
      "metadata": {
        "colab": {
          "base_uri": "https://localhost:8080/"
        },
        "id": "3h1jmye8VN5o",
        "outputId": "7a2686e6-7d2d-4f8c-cae3-646a31671281"
      },
      "execution_count": null,
      "outputs": [
        {
          "output_type": "stream",
          "name": "stdout",
          "text": [
            "ARIMA(0, 0, 0)x(0, 0, 0, 12)12 - AIC:7700.388329365385\n",
            "ARIMA(0, 0, 0)x(0, 0, 1, 12)12 - AIC:7051.758684717114\n",
            "ARIMA(0, 0, 0)x(0, 0, 2, 12)12 - AIC:6518.695849286727\n",
            "ARIMA(0, 0, 0)x(0, 1, 0, 12)12 - AIC:6031.240936284854\n",
            "ARIMA(0, 0, 0)x(0, 1, 1, 12)12 - AIC:5837.063496525398\n",
            "ARIMA(0, 0, 0)x(0, 1, 2, 12)12 - AIC:5569.35181637504\n",
            "ARIMA(0, 0, 0)x(0, 2, 0, 12)12 - AIC:6079.91798369523\n",
            "ARIMA(0, 0, 0)x(0, 2, 1, 12)12 - AIC:5717.744014361133\n",
            "ARIMA(0, 0, 0)x(0, 2, 2, 12)12 - AIC:5465.431074379874\n",
            "ARIMA(0, 0, 0)x(1, 0, 0, 12)12 - AIC:6048.693254833153\n",
            "ARIMA(0, 0, 0)x(1, 0, 1, 12)12 - AIC:6037.604627507413\n",
            "ARIMA(0, 0, 0)x(1, 0, 2, 12)12 - AIC:5840.40752222926\n",
            "ARIMA(0, 0, 0)x(1, 1, 0, 12)12 - AIC:5854.210819628951\n",
            "ARIMA(0, 0, 0)x(1, 1, 1, 12)12 - AIC:5797.877248098415\n",
            "ARIMA(0, 0, 0)x(1, 1, 2, 12)12 - AIC:5549.022501378957\n",
            "ARIMA(0, 0, 0)x(1, 2, 0, 12)12 - AIC:5788.226572464091\n",
            "ARIMA(0, 0, 0)x(1, 2, 1, 12)12 - AIC:5713.636035715486\n",
            "ARIMA(0, 0, 0)x(1, 2, 2, 12)12 - AIC:5434.686552398144\n",
            "ARIMA(0, 0, 0)x(2, 0, 0, 12)12 - AIC:5855.897698260899\n",
            "ARIMA(0, 0, 0)x(2, 0, 1, 12)12 - AIC:5802.775206691778\n",
            "ARIMA(0, 0, 0)x(2, 0, 2, 12)12 - AIC:5786.779913946457\n",
            "ARIMA(0, 0, 0)x(2, 1, 0, 12)12 - AIC:5600.065581342646\n",
            "ARIMA(0, 0, 0)x(2, 1, 1, 12)12 - AIC:5600.2073626602705\n",
            "ARIMA(0, 0, 0)x(2, 1, 2, 12)12 - AIC:5550.220584784735\n",
            "ARIMA(0, 0, 0)x(2, 2, 0, 12)12 - AIC:5519.516147889426\n",
            "ARIMA(0, 0, 0)x(2, 2, 1, 12)12 - AIC:5521.6546632692225\n",
            "ARIMA(0, 0, 0)x(2, 2, 2, 12)12 - AIC:5416.010875193827\n",
            "ARIMA(0, 0, 1)x(0, 0, 0, 12)12 - AIC:7414.900206120145\n",
            "ARIMA(0, 0, 1)x(0, 0, 1, 12)12 - AIC:7112.165746140224\n",
            "ARIMA(0, 0, 1)x(0, 0, 2, 12)12 - AIC:6132.779498512179\n",
            "ARIMA(0, 0, 1)x(0, 1, 0, 12)12 - AIC:5728.815287207633\n",
            "ARIMA(0, 0, 1)x(0, 1, 1, 12)12 - AIC:5536.5491306501135\n",
            "ARIMA(0, 0, 1)x(0, 1, 2, 12)12 - AIC:5285.738000145395\n",
            "ARIMA(0, 0, 1)x(0, 2, 0, 12)12 - AIC:5819.362486556057\n",
            "ARIMA(0, 0, 1)x(0, 2, 1, 12)12 - AIC:5424.380271710064\n",
            "ARIMA(0, 0, 1)x(0, 2, 2, 12)12 - AIC:5189.307538097406\n",
            "ARIMA(0, 0, 1)x(1, 0, 0, 12)12 - AIC:5764.9988386075765\n",
            "ARIMA(0, 0, 1)x(1, 0, 1, 12)12 - AIC:5725.882954884692\n",
            "ARIMA(0, 0, 1)x(1, 0, 2, 12)12 - AIC:5535.545976763262\n",
            "ARIMA(0, 0, 1)x(1, 1, 0, 12)12 - AIC:5568.788977380273\n",
            "ARIMA(0, 0, 1)x(1, 1, 1, 12)12 - AIC:5536.713954189087\n",
            "ARIMA(0, 0, 1)x(1, 1, 2, 12)12 - AIC:5269.766792377652\n",
            "ARIMA(0, 0, 1)x(1, 2, 0, 12)12 - AIC:5536.415457279216\n",
            "ARIMA(0, 0, 1)x(1, 2, 1, 12)12 - AIC:5430.727526823356\n",
            "ARIMA(0, 0, 1)x(1, 2, 2, 12)12 - AIC:5157.17917744493\n",
            "ARIMA(0, 0, 1)x(2, 0, 0, 12)12 - AIC:5570.9328911987905\n",
            "ARIMA(0, 0, 1)x(2, 0, 1, 12)12 - AIC:5523.591712856264\n",
            "ARIMA(0, 0, 1)x(2, 0, 2, 12)12 - AIC:5617.5827748532265\n",
            "ARIMA(0, 0, 1)x(2, 1, 0, 12)12 - AIC:5337.282916511374\n",
            "ARIMA(0, 0, 1)x(2, 1, 1, 12)12 - AIC:5313.070470061288\n",
            "ARIMA(0, 0, 1)x(2, 1, 2, 12)12 - AIC:5269.301045311893\n",
            "ARIMA(0, 0, 1)x(2, 2, 0, 12)12 - AIC:5266.4168301197\n",
            "ARIMA(0, 0, 1)x(2, 2, 1, 12)12 - AIC:5231.5565289488095\n",
            "ARIMA(0, 0, 1)x(2, 2, 2, 12)12 - AIC:5153.614307936424\n",
            "ARIMA(0, 0, 2)x(0, 0, 0, 12)12 - AIC:7334.151436588332\n",
            "ARIMA(0, 0, 2)x(0, 0, 1, 12)12 - AIC:6265.108119576835\n",
            "ARIMA(0, 0, 2)x(0, 0, 2, 12)12 - AIC:5867.3875403309785\n",
            "ARIMA(0, 0, 2)x(0, 1, 0, 12)12 - AIC:5583.2843138304515\n",
            "ARIMA(0, 0, 2)x(0, 1, 1, 12)12 - AIC:5381.958616778275\n",
            "ARIMA(0, 0, 2)x(0, 1, 2, 12)12 - AIC:5132.417126503276\n",
            "ARIMA(0, 0, 2)x(0, 2, 0, 12)12 - AIC:5702.262412152992\n",
            "ARIMA(0, 0, 2)x(0, 2, 1, 12)12 - AIC:5276.457637670934\n",
            "ARIMA(0, 0, 2)x(0, 2, 2, 12)12 - AIC:5032.40446530767\n",
            "ARIMA(0, 0, 2)x(1, 0, 0, 12)12 - AIC:5641.173970703323\n",
            "ARIMA(0, 0, 2)x(1, 0, 1, 12)12 - AIC:5569.892475564891\n",
            "ARIMA(0, 0, 2)x(1, 0, 2, 12)12 - AIC:5443.074134820734\n",
            "ARIMA(0, 0, 2)x(1, 1, 0, 12)12 - AIC:5429.433379628699\n",
            "ARIMA(0, 0, 2)x(1, 1, 1, 12)12 - AIC:5354.492712438801\n",
            "ARIMA(0, 0, 2)x(1, 1, 2, 12)12 - AIC:5120.182376726573\n",
            "ARIMA(0, 0, 2)x(1, 2, 0, 12)12 - AIC:5426.779105329797\n",
            "ARIMA(0, 0, 2)x(1, 2, 1, 12)12 - AIC:5277.111902116118\n",
            "ARIMA(0, 0, 2)x(1, 2, 2, 12)12 - AIC:5050.393905280085\n",
            "ARIMA(0, 0, 2)x(2, 0, 0, 12)12 - AIC:5431.336859999539\n",
            "ARIMA(0, 0, 2)x(2, 0, 1, 12)12 - AIC:5432.823333274212\n",
            "ARIMA(0, 0, 2)x(2, 0, 2, 12)12 - AIC:5382.906106180368\n",
            "ARIMA(0, 0, 2)x(2, 1, 0, 12)12 - AIC:5199.830841503985\n",
            "ARIMA(0, 0, 2)x(2, 1, 1, 12)12 - AIC:5196.78954560589\n",
            "ARIMA(0, 0, 2)x(2, 1, 2, 12)12 - AIC:5106.16186661527\n",
            "ARIMA(0, 0, 2)x(2, 2, 0, 12)12 - AIC:5139.661201643233\n",
            "ARIMA(0, 0, 2)x(2, 2, 1, 12)12 - AIC:5104.178499469178\n",
            "ARIMA(0, 0, 2)x(2, 2, 2, 12)12 - AIC:5047.2027627304515\n",
            "ARIMA(0, 1, 0)x(0, 0, 0, 12)12 - AIC:5369.996613217187\n",
            "ARIMA(0, 1, 0)x(0, 0, 1, 12)12 - AIC:5198.590303626023\n",
            "ARIMA(0, 1, 0)x(0, 0, 2, 12)12 - AIC:5031.587498585338\n",
            "ARIMA(0, 1, 0)x(0, 1, 0, 12)12 - AIC:5426.7630396501445\n",
            "ARIMA(0, 1, 0)x(0, 1, 1, 12)12 - AIC:5055.136618913923\n",
            "ARIMA(0, 1, 0)x(0, 1, 2, 12)12 - AIC:4859.506564334371\n",
            "ARIMA(0, 1, 0)x(0, 2, 0, 12)12 - AIC:5617.035420798022\n",
            "ARIMA(0, 1, 0)x(0, 2, 1, 12)12 - AIC:5088.184011083033\n",
            "ARIMA(0, 1, 0)x(0, 2, 2, 12)12 - AIC:4733.285731150661\n",
            "ARIMA(0, 1, 0)x(1, 0, 0, 12)12 - AIC:5212.344217860244\n",
            "ARIMA(0, 1, 0)x(1, 0, 1, 12)12 - AIC:5192.077158064165\n",
            "ARIMA(0, 1, 0)x(1, 0, 2, 12)12 - AIC:5016.189178936895\n",
            "ARIMA(0, 1, 0)x(1, 1, 0, 12)12 - AIC:5178.153169768483\n",
            "ARIMA(0, 1, 0)x(1, 1, 1, 12)12 - AIC:5057.036572567947\n",
            "ARIMA(0, 1, 0)x(1, 1, 2, 12)12 - AIC:4851.357408734402\n",
            "ARIMA(0, 1, 0)x(1, 2, 0, 12)12 - AIC:5244.018267195731\n",
            "ARIMA(0, 1, 0)x(1, 2, 1, 12)12 - AIC:5009.917641119291\n",
            "ARIMA(0, 1, 0)x(1, 2, 2, 12)12 - AIC:4733.6274471059\n",
            "ARIMA(0, 1, 0)x(2, 0, 0, 12)12 - AIC:5045.852775247307\n",
            "ARIMA(0, 1, 0)x(2, 0, 1, 12)12 - AIC:5031.546541354486\n",
            "ARIMA(0, 1, 0)x(2, 0, 2, 12)12 - AIC:5007.934302532571\n",
            "ARIMA(0, 1, 0)x(2, 1, 0, 12)12 - AIC:4941.893602431306\n",
            "ARIMA(0, 1, 0)x(2, 1, 1, 12)12 - AIC:4875.57975498909\n",
            "ARIMA(0, 1, 0)x(2, 1, 2, 12)12 - AIC:4852.742676035829\n",
            "ARIMA(0, 1, 0)x(2, 2, 0, 12)12 - AIC:4947.580656904669\n",
            "ARIMA(0, 1, 0)x(2, 2, 1, 12)12 - AIC:4794.8919897912165\n",
            "ARIMA(0, 1, 0)x(2, 2, 2, 12)12 - AIC:4741.477310979409\n",
            "ARIMA(0, 1, 1)x(0, 0, 0, 12)12 - AIC:5355.839334919114\n",
            "ARIMA(0, 1, 1)x(0, 0, 1, 12)12 - AIC:5184.270898807276\n",
            "ARIMA(0, 1, 1)x(0, 0, 2, 12)12 - AIC:5016.931036402907\n",
            "ARIMA(0, 1, 1)x(0, 1, 0, 12)12 - AIC:5412.0713905445045\n",
            "ARIMA(0, 1, 1)x(0, 1, 1, 12)12 - AIC:5040.218917221353\n",
            "ARIMA(0, 1, 1)x(0, 1, 2, 12)12 - AIC:4841.160689129711\n",
            "ARIMA(0, 1, 1)x(0, 2, 0, 12)12 - AIC:5600.655258843934\n",
            "ARIMA(0, 1, 1)x(0, 2, 1, 12)12 - AIC:5072.291624615951\n",
            "ARIMA(0, 1, 1)x(0, 2, 2, 12)12 - AIC:4711.672637288035\n",
            "ARIMA(0, 1, 1)x(1, 0, 0, 12)12 - AIC:5211.668843422574\n",
            "ARIMA(0, 1, 1)x(1, 0, 1, 12)12 - AIC:5177.863361981468\n",
            "ARIMA(0, 1, 1)x(1, 0, 2, 12)12 - AIC:5001.495380219534\n",
            "ARIMA(0, 1, 1)x(1, 1, 0, 12)12 - AIC:5177.709746136887\n",
            "ARIMA(0, 1, 1)x(1, 1, 1, 12)12 - AIC:5042.139823724208\n",
            "ARIMA(0, 1, 1)x(1, 1, 2, 12)12 - AIC:4833.038504888291\n",
            "ARIMA(0, 1, 1)x(1, 2, 0, 12)12 - AIC:5244.275767431749\n",
            "ARIMA(0, 1, 1)x(1, 2, 1, 12)12 - AIC:4994.216917344747\n",
            "ARIMA(0, 1, 1)x(1, 2, 2, 12)12 - AIC:4711.415825784491\n",
            "ARIMA(0, 1, 1)x(2, 0, 0, 12)12 - AIC:5045.314567324009\n",
            "ARIMA(0, 1, 1)x(2, 0, 1, 12)12 - AIC:5031.4845166298\n",
            "ARIMA(0, 1, 1)x(2, 0, 2, 12)12 - AIC:5006.915337948918\n",
            "ARIMA(0, 1, 1)x(2, 1, 0, 12)12 - AIC:4943.285307002818\n",
            "ARIMA(0, 1, 1)x(2, 1, 1, 12)12 - AIC:4876.166855259615\n",
            "ARIMA(0, 1, 1)x(2, 1, 2, 12)12 - AIC:4834.550111371872\n",
            "ARIMA(0, 1, 1)x(2, 2, 0, 12)12 - AIC:4949.224983749186\n",
            "ARIMA(0, 1, 1)x(2, 2, 1, 12)12 - AIC:4796.68557665005\n",
            "ARIMA(0, 1, 1)x(2, 2, 2, 12)12 - AIC:4713.105008061895\n",
            "ARIMA(0, 1, 2)x(0, 0, 0, 12)12 - AIC:5341.335017354393\n",
            "ARIMA(0, 1, 2)x(0, 0, 1, 12)12 - AIC:5172.148289346051\n",
            "ARIMA(0, 1, 2)x(0, 0, 2, 12)12 - AIC:5005.035512622471\n",
            "ARIMA(0, 1, 2)x(0, 1, 0, 12)12 - AIC:5398.983692738002\n",
            "ARIMA(0, 1, 2)x(0, 1, 1, 12)12 - AIC:5028.132828814902\n",
            "ARIMA(0, 1, 2)x(0, 1, 2, 12)12 - AIC:4830.072156740123\n",
            "ARIMA(0, 1, 2)x(0, 2, 0, 12)12 - AIC:5586.8534810007\n",
            "ARIMA(0, 1, 2)x(0, 2, 1, 12)12 - AIC:5059.2301573807135\n",
            "ARIMA(0, 1, 2)x(0, 2, 2, 12)12 - AIC:4699.707772958935\n",
            "ARIMA(0, 1, 2)x(1, 0, 0, 12)12 - AIC:5213.604973043173\n",
            "ARIMA(0, 1, 2)x(1, 0, 1, 12)12 - AIC:5165.250918251926\n",
            "ARIMA(0, 1, 2)x(1, 0, 2, 12)12 - AIC:4988.665898173231\n",
            "ARIMA(0, 1, 2)x(1, 1, 0, 12)12 - AIC:5179.695653716697\n",
            "ARIMA(0, 1, 2)x(1, 1, 1, 12)12 - AIC:5030.062515715233\n",
            "ARIMA(0, 1, 2)x(1, 1, 2, 12)12 - AIC:4819.910502750519\n",
            "ARIMA(0, 1, 2)x(1, 2, 0, 12)12 - AIC:5245.911599608617\n",
            "ARIMA(0, 1, 2)x(1, 2, 1, 12)12 - AIC:4981.371751424678\n",
            "ARIMA(0, 1, 2)x(1, 2, 2, 12)12 - AIC:4699.8108408969165\n",
            "ARIMA(0, 1, 2)x(2, 0, 0, 12)12 - AIC:5047.22735261303\n",
            "ARIMA(0, 1, 2)x(2, 0, 1, 12)12 - AIC:5033.125738665346\n",
            "ARIMA(0, 1, 2)x(2, 0, 2, 12)12 - AIC:4980.587555040187\n",
            "ARIMA(0, 1, 2)x(2, 1, 0, 12)12 - AIC:4945.260700097619\n",
            "ARIMA(0, 1, 2)x(2, 1, 1, 12)12 - AIC:4878.166789700445\n",
            "ARIMA(0, 1, 2)x(2, 1, 2, 12)12 - AIC:4821.5081949303585\n",
            "ARIMA(0, 1, 2)x(2, 2, 0, 12)12 - AIC:4950.896568879727\n",
            "ARIMA(0, 1, 2)x(2, 2, 1, 12)12 - AIC:4798.68349116035\n",
            "ARIMA(0, 1, 2)x(2, 2, 2, 12)12 - AIC:4701.869459272353\n",
            "ARIMA(0, 2, 0)x(0, 0, 0, 12)12 - AIC:5637.311650967005\n",
            "ARIMA(0, 2, 0)x(0, 0, 1, 12)12 - AIC:5458.193541380951\n",
            "ARIMA(0, 2, 0)x(0, 0, 2, 12)12 - AIC:5282.0836210245\n",
            "ARIMA(0, 2, 0)x(0, 1, 0, 12)12 - AIC:5682.9378370234845\n",
            "ARIMA(0, 2, 0)x(0, 1, 1, 12)12 - AIC:5303.440941270371\n",
            "ARIMA(0, 2, 0)x(0, 1, 2, 12)12 - AIC:5087.939457316128\n",
            "ARIMA(0, 2, 0)x(0, 2, 0, 12)12 - AIC:5865.083085942012\n",
            "ARIMA(0, 2, 0)x(0, 2, 1, 12)12 - AIC:5320.79071045629\n",
            "ARIMA(0, 2, 0)x(0, 2, 2, 12)12 - AIC:4941.012862846526\n",
            "ARIMA(0, 2, 0)x(1, 0, 0, 12)12 - AIC:5472.516822869219\n",
            "ARIMA(0, 2, 0)x(1, 0, 1, 12)12 - AIC:5442.041404597507\n",
            "ARIMA(0, 2, 0)x(1, 0, 2, 12)12 - AIC:5273.732324281001\n",
            "ARIMA(0, 2, 0)x(1, 1, 0, 12)12 - AIC:5426.710665761483\n",
            "ARIMA(0, 2, 0)x(1, 1, 1, 12)12 - AIC:5305.37151432982\n",
            "ARIMA(0, 2, 0)x(1, 1, 2, 12)12 - AIC:5081.548295417505\n",
            "ARIMA(0, 2, 0)x(1, 2, 0, 12)12 - AIC:5475.424794932484\n",
            "ARIMA(0, 2, 0)x(1, 2, 1, 12)12 - AIC:5236.7645236922635\n",
            "ARIMA(0, 2, 0)x(1, 2, 2, 12)12 - AIC:4984.302428421677\n",
            "ARIMA(0, 2, 0)x(2, 0, 0, 12)12 - AIC:5297.411764112554\n",
            "ARIMA(0, 2, 0)x(2, 0, 1, 12)12 - AIC:5282.74873672635\n",
            "ARIMA(0, 2, 0)x(2, 0, 2, 12)12 - AIC:5267.653342400158\n",
            "ARIMA(0, 2, 0)x(2, 1, 0, 12)12 - AIC:5167.5632864472645\n",
            "ARIMA(0, 2, 0)x(2, 1, 1, 12)12 - AIC:5102.567562127873\n",
            "ARIMA(0, 2, 0)x(2, 1, 2, 12)12 - AIC:5082.207137162951\n",
            "ARIMA(0, 2, 0)x(2, 2, 0, 12)12 - AIC:5162.94812338928\n",
            "ARIMA(0, 2, 0)x(2, 2, 1, 12)12 - AIC:5004.668127687263\n",
            "ARIMA(0, 2, 0)x(2, 2, 2, 12)12 - AIC:4942.534883801751\n",
            "ARIMA(0, 2, 1)x(0, 0, 0, 12)12 - AIC:5357.550302947624\n",
            "ARIMA(0, 2, 1)x(0, 0, 1, 12)12 - AIC:5183.949711856763\n",
            "ARIMA(0, 2, 1)x(0, 0, 2, 12)12 - AIC:5015.213399761411\n",
            "ARIMA(0, 2, 1)x(0, 1, 0, 12)12 - AIC:5415.605140272393\n",
            "ARIMA(0, 2, 1)x(0, 1, 1, 12)12 - AIC:5036.393362615554\n",
            "ARIMA(0, 2, 1)x(0, 1, 2, 12)12 - AIC:4834.693522832682\n",
            "ARIMA(0, 2, 1)x(0, 2, 0, 12)12 - AIC:5602.57589512427\n",
            "ARIMA(0, 2, 1)x(0, 2, 1, 12)12 - AIC:5067.175886246785\n",
            "ARIMA(0, 2, 1)x(0, 2, 2, 12)12 - AIC:4705.78854511777\n",
            "ARIMA(0, 2, 1)x(1, 0, 0, 12)12 - AIC:5213.984971529922\n",
            "ARIMA(0, 2, 1)x(1, 0, 1, 12)12 - AIC:5176.529343359798\n",
            "ARIMA(0, 2, 1)x(1, 0, 2, 12)12 - AIC:5017.244782768149\n",
            "ARIMA(0, 2, 1)x(1, 1, 0, 12)12 - AIC:5170.876032439523\n",
            "ARIMA(0, 2, 1)x(1, 1, 1, 12)12 - AIC:5038.003582578748\n",
            "ARIMA(0, 2, 1)x(1, 1, 2, 12)12 - AIC:4826.5963646042965\n",
            "ARIMA(0, 2, 1)x(1, 2, 0, 12)12 - AIC:5235.0592695714895\n",
            "ARIMA(0, 2, 1)x(1, 2, 1, 12)12 - AIC:4987.451793857099\n",
            "ARIMA(0, 2, 1)x(1, 2, 2, 12)12 - AIC:4706.511124468712\n",
            "ARIMA(0, 2, 1)x(2, 0, 0, 12)12 - AIC:5039.17999959324\n",
            "ARIMA(0, 2, 1)x(2, 0, 1, 12)12 - AIC:5026.657656784477\n",
            "ARIMA(0, 2, 1)x(2, 0, 2, 12)12 - AIC:4990.196899465583\n",
            "ARIMA(0, 2, 1)x(2, 1, 0, 12)12 - AIC:4934.906887173991\n",
            "ARIMA(0, 2, 1)x(2, 1, 1, 12)12 - AIC:4871.563914846254\n",
            "ARIMA(0, 2, 1)x(2, 1, 2, 12)12 - AIC:4827.499823013429\n",
            "ARIMA(0, 2, 1)x(2, 2, 0, 12)12 - AIC:4939.174379070733\n",
            "ARIMA(0, 2, 1)x(2, 2, 1, 12)12 - AIC:4785.095470179251\n",
            "ARIMA(0, 2, 1)x(2, 2, 2, 12)12 - AIC:4728.050117104636\n",
            "ARIMA(0, 2, 2)x(0, 0, 0, 12)12 - AIC:5338.790004720135\n",
            "ARIMA(0, 2, 2)x(0, 0, 1, 12)12 - AIC:5167.059718220531\n",
            "ARIMA(0, 2, 2)x(0, 0, 2, 12)12 - AIC:4995.463620843888\n",
            "ARIMA(0, 2, 2)x(0, 1, 0, 12)12 - AIC:5398.779503294835\n",
            "ARIMA(0, 2, 2)x(0, 1, 1, 12)12 - AIC:5020.3472658889095\n",
            "ARIMA(0, 2, 2)x(0, 1, 2, 12)12 - AIC:4821.489277737255\n",
            "ARIMA(0, 2, 2)x(0, 2, 0, 12)12 - AIC:5585.6250276672035\n",
            "ARIMA(0, 2, 2)x(0, 2, 1, 12)12 - AIC:5052.612228528598\n",
            "ARIMA(0, 2, 2)x(0, 2, 2, 12)12 - AIC:4684.0320575567885\n",
            "ARIMA(0, 2, 2)x(1, 0, 0, 12)12 - AIC:5211.392461113053\n",
            "ARIMA(0, 2, 2)x(1, 0, 1, 12)12 - AIC:5159.690819698857\n",
            "ARIMA(0, 2, 2)x(1, 0, 2, 12)12 - AIC:4990.52770587711\n",
            "ARIMA(0, 2, 2)x(1, 1, 0, 12)12 - AIC:5195.353088068567\n",
            "ARIMA(0, 2, 2)x(1, 1, 1, 12)12 - AIC:5022.311067716468\n",
            "ARIMA(0, 2, 2)x(1, 1, 2, 12)12 - AIC:4812.71818972904\n",
            "ARIMA(0, 2, 2)x(1, 2, 0, 12)12 - AIC:5235.92139953872\n",
            "ARIMA(0, 2, 2)x(1, 2, 1, 12)12 - AIC:4973.094075821871\n",
            "ARIMA(0, 2, 2)x(1, 2, 2, 12)12 - AIC:4685.848331694282\n",
            "ARIMA(0, 2, 2)x(2, 0, 0, 12)12 - AIC:5038.645435134804\n",
            "ARIMA(0, 2, 2)x(2, 0, 1, 12)12 - AIC:5026.170313749273\n",
            "ARIMA(0, 2, 2)x(2, 0, 2, 12)12 - AIC:4986.245566205418\n",
            "ARIMA(0, 2, 2)x(2, 1, 0, 12)12 - AIC:4936.471339642158\n",
            "ARIMA(0, 2, 2)x(2, 1, 1, 12)12 - AIC:4873.052961242274\n",
            "ARIMA(0, 2, 2)x(2, 1, 2, 12)12 - AIC:4814.163154099674\n",
            "ARIMA(0, 2, 2)x(2, 2, 0, 12)12 - AIC:4940.8335429779945\n",
            "ARIMA(0, 2, 2)x(2, 2, 1, 12)12 - AIC:4786.746795159328\n",
            "ARIMA(0, 2, 2)x(2, 2, 2, 12)12 - AIC:4687.224441914741\n",
            "ARIMA(1, 0, 0)x(0, 0, 0, 12)12 - AIC:5385.726301403756\n",
            "ARIMA(1, 0, 0)x(0, 0, 1, 12)12 - AIC:5214.364341065817\n",
            "ARIMA(1, 0, 0)x(0, 0, 2, 12)12 - AIC:5048.092310399721\n",
            "ARIMA(1, 0, 0)x(0, 1, 0, 12)12 - AIC:5426.110553416442\n",
            "ARIMA(1, 0, 0)x(0, 1, 1, 12)12 - AIC:5064.746180530794\n",
            "ARIMA(1, 0, 0)x(0, 1, 2, 12)12 - AIC:4870.277854263287\n",
            "ARIMA(1, 0, 0)x(0, 2, 0, 12)12 - AIC:5610.379513773891\n",
            "ARIMA(1, 0, 0)x(0, 2, 1, 12)12 - AIC:5101.328934121713\n",
            "ARIMA(1, 0, 0)x(0, 2, 2, 12)12 - AIC:4741.877235265845\n",
            "ARIMA(1, 0, 0)x(1, 0, 0, 12)12 - AIC:5214.306054852792\n",
            "ARIMA(1, 0, 0)x(1, 0, 1, 12)12 - AIC:5205.925251684367\n",
            "ARIMA(1, 0, 0)x(1, 0, 2, 12)12 - AIC:5031.491813671188\n",
            "ARIMA(1, 0, 0)x(1, 1, 0, 12)12 - AIC:5169.323793530909\n",
            "ARIMA(1, 0, 0)x(1, 1, 1, 12)12 - AIC:5066.604866704782\n",
            "ARIMA(1, 0, 0)x(1, 1, 2, 12)12 - AIC:4860.075866979279\n",
            "ARIMA(1, 0, 0)x(1, 2, 0, 12)12 - AIC:5227.904636162815\n",
            "ARIMA(1, 0, 0)x(1, 2, 1, 12)12 - AIC:5030.072182178838\n",
            "ARIMA(1, 0, 0)x(1, 2, 2, 12)12 - AIC:4740.900152151249\n",
            "ARIMA(1, 0, 0)x(2, 0, 0, 12)12 - AIC:5047.877780563031\n",
            "ARIMA(1, 0, 0)x(2, 0, 1, 12)12 - AIC:5030.8452239579\n",
            "ARIMA(1, 0, 0)x(2, 0, 2, 12)12 - AIC:5028.6916800797835\n",
            "ARIMA(1, 0, 0)x(2, 1, 0, 12)12 - AIC:4930.624677817033\n",
            "ARIMA(1, 0, 0)x(2, 1, 1, 12)12 - AIC:4873.1734298955\n",
            "ARIMA(1, 0, 0)x(2, 1, 2, 12)12 - AIC:4861.352722918089\n",
            "ARIMA(1, 0, 0)x(2, 2, 0, 12)12 - AIC:4937.045237163442\n",
            "ARIMA(1, 0, 0)x(2, 2, 1, 12)12 - AIC:4790.770138867554\n",
            "ARIMA(1, 0, 0)x(2, 2, 2, 12)12 - AIC:4742.714290162585\n",
            "ARIMA(1, 0, 1)x(0, 0, 0, 12)12 - AIC:5371.538062715828\n",
            "ARIMA(1, 0, 1)x(0, 0, 1, 12)12 - AIC:5199.954492303324\n",
            "ARIMA(1, 0, 1)x(0, 0, 2, 12)12 - AIC:5032.904736412131\n",
            "ARIMA(1, 0, 1)x(0, 1, 0, 12)12 - AIC:5413.422886890981\n",
            "ARIMA(1, 0, 1)x(0, 1, 1, 12)12 - AIC:5050.920832933316\n",
            "ARIMA(1, 0, 1)x(0, 1, 2, 12)12 - AIC:4856.853993716175\n",
            "ARIMA(1, 0, 1)x(0, 2, 0, 12)12 - AIC:5596.6160924838005\n",
            "ARIMA(1, 0, 1)x(0, 2, 1, 12)12 - AIC:5083.938251543514\n",
            "ARIMA(1, 0, 1)x(0, 2, 2, 12)12 - AIC:4730.964007137089\n",
            "ARIMA(1, 0, 1)x(1, 0, 0, 12)12 - AIC:5213.704335383933\n",
            "ARIMA(1, 0, 1)x(1, 0, 1, 12)12 - AIC:5191.797519766062\n",
            "ARIMA(1, 0, 1)x(1, 0, 2, 12)12 - AIC:5016.457736337257\n",
            "ARIMA(1, 0, 1)x(1, 1, 0, 12)12 - AIC:5170.155373470377\n",
            "ARIMA(1, 0, 1)x(1, 1, 1, 12)12 - AIC:5052.8082187474665\n",
            "ARIMA(1, 0, 1)x(1, 1, 2, 12)12 - AIC:4848.140489326901\n",
            "ARIMA(1, 0, 1)x(1, 2, 0, 12)12 - AIC:5229.683471714348\n",
            "ARIMA(1, 0, 1)x(1, 2, 1, 12)12 - AIC:5012.986915939983\n",
            "ARIMA(1, 0, 1)x(1, 2, 2, 12)12 - AIC:4730.62311827308\n",
            "ARIMA(1, 0, 1)x(2, 0, 0, 12)12 - AIC:5047.140789183112\n",
            "ARIMA(1, 0, 1)x(2, 0, 1, 12)12 - AIC:5030.4787944210875\n",
            "ARIMA(1, 0, 1)x(2, 0, 2, 12)12 - AIC:5012.696967180373\n",
            "ARIMA(1, 0, 1)x(2, 1, 0, 12)12 - AIC:4932.563962940394\n",
            "ARIMA(1, 0, 1)x(2, 1, 1, 12)12 - AIC:4874.478800003191\n",
            "ARIMA(1, 0, 1)x(2, 1, 2, 12)12 - AIC:4849.303048406754\n",
            "ARIMA(1, 0, 1)x(2, 2, 0, 12)12 - AIC:4939.043068984014\n",
            "ARIMA(1, 0, 1)x(2, 2, 1, 12)12 - AIC:4792.717602039459\n",
            "ARIMA(1, 0, 1)x(2, 2, 2, 12)12 - AIC:4731.966984832402\n",
            "ARIMA(1, 0, 2)x(0, 0, 0, 12)12 - AIC:5359.684190382527\n",
            "ARIMA(1, 0, 2)x(0, 0, 1, 12)12 - AIC:5188.163438345814\n",
            "ARIMA(1, 0, 2)x(0, 0, 2, 12)12 - AIC:5020.887940905247\n",
            "ARIMA(1, 0, 2)x(0, 1, 0, 12)12 - AIC:5401.0248687052845\n",
            "ARIMA(1, 0, 2)x(0, 1, 1, 12)12 - AIC:5038.96944360506\n",
            "ARIMA(1, 0, 2)x(0, 1, 2, 12)12 - AIC:4842.169076935766\n",
            "ARIMA(1, 0, 2)x(0, 2, 0, 12)12 - AIC:5583.044868714166\n",
            "ARIMA(1, 0, 2)x(0, 2, 1, 12)12 - AIC:5068.81813488067\n",
            "ARIMA(1, 0, 2)x(0, 2, 2, 12)12 - AIC:4710.772945737796\n",
            "ARIMA(1, 0, 2)x(1, 0, 0, 12)12 - AIC:5215.6303290896285\n",
            "ARIMA(1, 0, 2)x(1, 0, 1, 12)12 - AIC:5179.57574299666\n",
            "ARIMA(1, 0, 2)x(1, 0, 2, 12)12 - AIC:5004.051939334988\n",
            "ARIMA(1, 0, 2)x(1, 1, 0, 12)12 - AIC:5172.073359067955\n",
            "ARIMA(1, 0, 2)x(1, 1, 1, 12)12 - AIC:5040.86393053719\n",
            "ARIMA(1, 0, 2)x(1, 1, 2, 12)12 - AIC:4831.218050387163\n",
            "ARIMA(1, 0, 2)x(1, 2, 0, 12)12 - AIC:5231.640357846345\n",
            "ARIMA(1, 0, 2)x(1, 2, 1, 12)12 - AIC:4996.595499828587\n",
            "ARIMA(1, 0, 2)x(1, 2, 2, 12)12 - AIC:4710.131386437851\n",
            "ARIMA(1, 0, 2)x(2, 0, 0, 12)12 - AIC:5049.038454342059\n",
            "ARIMA(1, 0, 2)x(2, 0, 1, 12)12 - AIC:5032.582556810243\n",
            "ARIMA(1, 0, 2)x(2, 0, 2, 12)12 - AIC:5000.956879980995\n",
            "ARIMA(1, 0, 2)x(2, 1, 0, 12)12 - AIC:4934.197949523474\n",
            "ARIMA(1, 0, 2)x(2, 1, 1, 12)12 - AIC:4876.419838750595\n",
            "ARIMA(1, 0, 2)x(2, 1, 2, 12)12 - AIC:4832.781310223641\n",
            "ARIMA(1, 0, 2)x(2, 2, 0, 12)12 - AIC:4941.019697630247\n",
            "ARIMA(1, 0, 2)x(2, 2, 1, 12)12 - AIC:4794.711014920675\n",
            "ARIMA(1, 0, 2)x(2, 2, 2, 12)12 - AIC:4711.49720741882\n",
            "ARIMA(1, 1, 0)x(0, 0, 0, 12)12 - AIC:5369.535326130882\n",
            "ARIMA(1, 1, 0)x(0, 0, 1, 12)12 - AIC:5197.922680974725\n",
            "ARIMA(1, 1, 0)x(0, 0, 2, 12)12 - AIC:5030.924166611951\n",
            "ARIMA(1, 1, 0)x(0, 1, 0, 12)12 - AIC:5426.579397612559\n",
            "ARIMA(1, 1, 0)x(0, 1, 1, 12)12 - AIC:5055.336679025408\n",
            "ARIMA(1, 1, 0)x(0, 1, 2, 12)12 - AIC:4860.622028450847\n",
            "ARIMA(1, 1, 0)x(0, 2, 0, 12)12 - AIC:5616.3335071100555\n",
            "ARIMA(1, 1, 0)x(0, 2, 1, 12)12 - AIC:5088.765675434776\n",
            "ARIMA(1, 1, 0)x(0, 2, 2, 12)12 - AIC:4735.173520432956\n",
            "ARIMA(1, 1, 0)x(1, 0, 0, 12)12 - AIC:5197.905258406739\n",
            "ARIMA(1, 1, 0)x(1, 0, 1, 12)12 - AIC:5193.207950663202\n",
            "ARIMA(1, 1, 0)x(1, 0, 2, 12)12 - AIC:5015.931565668132\n",
            "ARIMA(1, 1, 0)x(1, 1, 0, 12)12 - AIC:5163.516397609837\n",
            "ARIMA(1, 1, 0)x(1, 1, 1, 12)12 - AIC:5057.20792787051\n",
            "ARIMA(1, 1, 0)x(1, 1, 2, 12)12 - AIC:4852.907435876618\n",
            "ARIMA(1, 1, 0)x(1, 2, 0, 12)12 - AIC:5228.390951083191\n",
            "ARIMA(1, 1, 0)x(1, 2, 1, 12)12 - AIC:5010.967312372776\n",
            "ARIMA(1, 1, 0)x(1, 2, 2, 12)12 - AIC:4735.531437047966\n",
            "ARIMA(1, 1, 0)x(2, 0, 0, 12)12 - AIC:5030.62811020703\n",
            "ARIMA(1, 1, 0)x(2, 0, 1, 12)12 - AIC:5014.872471183688\n",
            "ARIMA(1, 1, 0)x(2, 0, 2, 12)12 - AIC:5021.52558026801\n",
            "ARIMA(1, 1, 0)x(2, 1, 0, 12)12 - AIC:4927.166717103693\n",
            "ARIMA(1, 1, 0)x(2, 1, 1, 12)12 - AIC:4863.390927670511\n",
            "ARIMA(1, 1, 0)x(2, 1, 2, 12)12 - AIC:4854.262383708854\n",
            "ARIMA(1, 1, 0)x(2, 2, 0, 12)12 - AIC:4934.160976474168\n",
            "ARIMA(1, 1, 0)x(2, 2, 1, 12)12 - AIC:4781.350966363564\n",
            "ARIMA(1, 1, 0)x(2, 2, 2, 12)12 - AIC:4737.235770857688\n",
            "ARIMA(1, 1, 1)x(0, 0, 0, 12)12 - AIC:5357.784771018168\n",
            "ARIMA(1, 1, 1)x(0, 0, 1, 12)12 - AIC:5186.233081619705\n",
            "ARIMA(1, 1, 1)x(0, 0, 2, 12)12 - AIC:5018.752342506784\n",
            "ARIMA(1, 1, 1)x(0, 1, 0, 12)12 - AIC:5414.019335748497\n",
            "ARIMA(1, 1, 1)x(0, 1, 1, 12)12 - AIC:5041.911728818548\n",
            "ARIMA(1, 1, 1)x(0, 1, 2, 12)12 - AIC:4842.398009704998\n",
            "ARIMA(1, 1, 1)x(0, 2, 0, 12)12 - AIC:5602.576387508365\n",
            "ARIMA(1, 1, 1)x(0, 2, 1, 12)12 - AIC:5067.2231755067905\n",
            "ARIMA(1, 1, 1)x(0, 2, 2, 12)12 - AIC:4713.372150424178\n",
            "ARIMA(1, 1, 1)x(1, 0, 0, 12)12 - AIC:5199.90334630786\n",
            "ARIMA(1, 1, 1)x(1, 0, 1, 12)12 - AIC:5178.838970691218\n",
            "ARIMA(1, 1, 1)x(1, 0, 2, 12)12 - AIC:5002.9954313891685\n",
            "ARIMA(1, 1, 1)x(1, 1, 0, 12)12 - AIC:5165.4388691036875\n",
            "ARIMA(1, 1, 1)x(1, 1, 1, 12)12 - AIC:5043.839275636074\n",
            "ARIMA(1, 1, 1)x(1, 1, 2, 12)12 - AIC:4833.095480489152\n",
            "ARIMA(1, 1, 1)x(1, 2, 0, 12)12 - AIC:5217.7773699684985\n",
            "ARIMA(1, 1, 1)x(1, 2, 1, 12)12 - AIC:4996.307599260792\n",
            "ARIMA(1, 1, 1)x(1, 2, 2, 12)12 - AIC:4759.5220093153675\n",
            "ARIMA(1, 1, 1)x(2, 0, 0, 12)12 - AIC:5032.7722627497915\n",
            "ARIMA(1, 1, 1)x(2, 0, 1, 12)12 - AIC:5017.183352743996\n",
            "ARIMA(1, 1, 1)x(2, 0, 2, 12)12 - AIC:5008.905564746336\n",
            "ARIMA(1, 1, 1)x(2, 1, 0, 12)12 - AIC:4928.273888170055\n",
            "ARIMA(1, 1, 1)x(2, 1, 1, 12)12 - AIC:4865.10920796521\n",
            "ARIMA(1, 1, 1)x(2, 1, 2, 12)12 - AIC:4834.401402415091\n",
            "ARIMA(1, 1, 1)x(2, 2, 0, 12)12 - AIC:4926.663631147303\n",
            "ARIMA(1, 1, 1)x(2, 2, 1, 12)12 - AIC:4778.265969822351\n",
            "ARIMA(1, 1, 1)x(2, 2, 2, 12)12 - AIC:4782.038096463155\n",
            "ARIMA(1, 1, 2)x(0, 0, 0, 12)12 - AIC:5343.195435180707\n",
            "ARIMA(1, 1, 2)x(0, 0, 1, 12)12 - AIC:5174.029390507361\n",
            "ARIMA(1, 1, 2)x(0, 0, 2, 12)12 - AIC:5003.898732766431\n",
            "ARIMA(1, 1, 2)x(0, 1, 0, 12)12 - AIC:5400.837600141593\n",
            "ARIMA(1, 1, 2)x(0, 1, 1, 12)12 - AIC:5028.611774008018\n",
            "ARIMA(1, 1, 2)x(0, 1, 2, 12)12 - AIC:4828.821670423638\n",
            "ARIMA(1, 1, 2)x(0, 2, 0, 12)12 - AIC:5588.689860223945\n",
            "ARIMA(1, 1, 2)x(0, 2, 1, 12)12 - AIC:5060.900005425141\n",
            "ARIMA(1, 1, 2)x(0, 2, 2, 12)12 - AIC:4704.013878636422\n",
            "ARIMA(1, 1, 2)x(1, 0, 0, 12)12 - AIC:5201.835788736499\n",
            "ARIMA(1, 1, 2)x(1, 0, 1, 12)12 - AIC:5165.88645246868\n",
            "ARIMA(1, 1, 2)x(1, 0, 2, 12)12 - AIC:4990.357400374337\n",
            "ARIMA(1, 1, 2)x(1, 1, 0, 12)12 - AIC:5162.794637470781\n",
            "ARIMA(1, 1, 2)x(1, 1, 1, 12)12 - AIC:5030.56959928025\n",
            "ARIMA(1, 1, 2)x(1, 1, 2, 12)12 - AIC:4820.213189059894\n",
            "ARIMA(1, 1, 2)x(1, 2, 0, 12)12 - AIC:5231.169106719961\n",
            "ARIMA(1, 1, 2)x(1, 2, 1, 12)12 - AIC:4980.741959125748\n",
            "ARIMA(1, 1, 2)x(1, 2, 2, 12)12 - AIC:4701.550446134612\n",
            "ARIMA(1, 1, 2)x(2, 0, 0, 12)12 - AIC:5034.721150160572\n",
            "ARIMA(1, 1, 2)x(2, 0, 1, 12)12 - AIC:5018.307403206038\n",
            "ARIMA(1, 1, 2)x(2, 0, 2, 12)12 - AIC:4982.160934016418\n",
            "ARIMA(1, 1, 2)x(2, 1, 0, 12)12 - AIC:4925.698870116292\n",
            "ARIMA(1, 1, 2)x(2, 1, 1, 12)12 - AIC:4866.949501042574\n",
            "ARIMA(1, 1, 2)x(2, 1, 2, 12)12 - AIC:4821.854811760679\n",
            "ARIMA(1, 1, 2)x(2, 2, 0, 12)12 - AIC:4928.6572418581545\n",
            "ARIMA(1, 1, 2)x(2, 2, 1, 12)12 - AIC:4780.1993275265995\n",
            "ARIMA(1, 1, 2)x(2, 2, 2, 12)12 - AIC:4803.999628263615\n",
            "ARIMA(1, 2, 0)x(0, 0, 0, 12)12 - AIC:5511.732375534701\n",
            "ARIMA(1, 2, 0)x(0, 0, 1, 12)12 - AIC:5335.952034310238\n",
            "ARIMA(1, 2, 0)x(0, 0, 2, 12)12 - AIC:5164.515299148351\n",
            "ARIMA(1, 2, 0)x(0, 1, 0, 12)12 - AIC:5571.973215832673\n",
            "ARIMA(1, 2, 0)x(0, 1, 1, 12)12 - AIC:5189.360464043624\n",
            "ARIMA(1, 2, 0)x(0, 1, 2, 12)12 - AIC:4983.9671442827275\n",
            "ARIMA(1, 2, 0)x(0, 2, 0, 12)12 - AIC:5756.101298895972\n",
            "ARIMA(1, 2, 0)x(0, 2, 1, 12)12 - AIC:5221.197596206448\n",
            "ARIMA(1, 2, 0)x(0, 2, 2, 12)12 - AIC:4836.667912498233\n",
            "ARIMA(1, 2, 0)x(1, 0, 0, 12)12 - AIC:5335.896611624985\n",
            "ARIMA(1, 2, 0)x(1, 0, 1, 12)12 - AIC:5325.919111386612\n",
            "ARIMA(1, 2, 0)x(1, 0, 2, 12)12 - AIC:5157.435798184958\n",
            "ARIMA(1, 2, 0)x(1, 1, 0, 12)12 - AIC:5302.454543080065\n",
            "ARIMA(1, 2, 0)x(1, 1, 1, 12)12 - AIC:5191.330797418877\n",
            "ARIMA(1, 2, 0)x(1, 1, 2, 12)12 - AIC:4980.215299026038\n",
            "ARIMA(1, 2, 0)x(1, 2, 0, 12)12 - AIC:5363.372179632061\n",
            "ARIMA(1, 2, 0)x(1, 2, 1, 12)12 - AIC:5136.8446280240005\n",
            "ARIMA(1, 2, 0)x(1, 2, 2, 12)12 - AIC:4838.002422448411\n",
            "ARIMA(1, 2, 0)x(2, 0, 0, 12)12 - AIC:5164.322114862713\n",
            "ARIMA(1, 2, 0)x(2, 0, 1, 12)12 - AIC:5151.604270078618\n",
            "ARIMA(1, 2, 0)x(2, 0, 2, 12)12 - AIC:5155.861487655622\n",
            "ARIMA(1, 2, 0)x(2, 1, 0, 12)12 - AIC:5049.804153828154\n",
            "ARIMA(1, 2, 0)x(2, 1, 1, 12)12 - AIC:4986.131477075216\n",
            "ARIMA(1, 2, 0)x(2, 1, 2, 12)12 - AIC:4981.848194479861\n",
            "ARIMA(1, 2, 0)x(2, 2, 0, 12)12 - AIC:5047.476071862988\n",
            "ARIMA(1, 2, 0)x(2, 2, 1, 12)12 - AIC:4880.186493529381\n",
            "ARIMA(1, 2, 0)x(2, 2, 2, 12)12 - AIC:4839.327286572198\n",
            "ARIMA(1, 2, 1)x(0, 0, 0, 12)12 - AIC:5358.461684942918\n",
            "ARIMA(1, 2, 1)x(0, 0, 1, 12)12 - AIC:5176.861982791376\n",
            "ARIMA(1, 2, 1)x(0, 0, 2, 12)12 - AIC:5009.6736685014\n",
            "ARIMA(1, 2, 1)x(0, 1, 0, 12)12 - AIC:5416.19985856844\n",
            "ARIMA(1, 2, 1)x(0, 1, 1, 12)12 - AIC:5036.423848634624\n",
            "ARIMA(1, 2, 1)x(0, 1, 2, 12)12 - AIC:4835.1308216634125\n",
            "ARIMA(1, 2, 1)x(0, 2, 0, 12)12 - AIC:5602.883787020723\n",
            "ARIMA(1, 2, 1)x(0, 2, 1, 12)12 - AIC:5067.588753746737\n",
            "ARIMA(1, 2, 1)x(0, 2, 2, 12)12 - AIC:4707.675143524954\n",
            "ARIMA(1, 2, 1)x(1, 0, 0, 12)12 - AIC:5191.884363489044\n",
            "ARIMA(1, 2, 1)x(1, 0, 1, 12)12 - AIC:5177.545868300877\n",
            "ARIMA(1, 2, 1)x(1, 0, 2, 12)12 - AIC:4995.805046413887\n",
            "ARIMA(1, 2, 1)x(1, 1, 0, 12)12 - AIC:5156.133388933933\n",
            "ARIMA(1, 2, 1)x(1, 1, 1, 12)12 - AIC:5037.893018143882\n",
            "ARIMA(1, 2, 1)x(1, 1, 2, 12)12 - AIC:4827.447375713725\n",
            "ARIMA(1, 2, 1)x(1, 2, 0, 12)12 - AIC:5218.515362025726\n",
            "ARIMA(1, 2, 1)x(1, 2, 1, 12)12 - AIC:4988.450899129549\n",
            "ARIMA(1, 2, 1)x(1, 2, 2, 12)12 - AIC:4708.329999110505\n",
            "ARIMA(1, 2, 1)x(2, 0, 0, 12)12 - AIC:5023.606976940423\n",
            "ARIMA(1, 2, 1)x(2, 0, 1, 12)12 - AIC:5011.278057487485\n",
            "ARIMA(1, 2, 1)x(2, 0, 2, 12)12 - AIC:4998.214194252933\n",
            "ARIMA(1, 2, 1)x(2, 1, 0, 12)12 - AIC:4919.558999127465\n",
            "ARIMA(1, 2, 1)x(2, 1, 1, 12)12 - AIC:4851.019092465817\n",
            "ARIMA(1, 2, 1)x(2, 1, 2, 12)12 - AIC:4828.936922324209\n",
            "ARIMA(1, 2, 1)x(2, 2, 0, 12)12 - AIC:4918.986058802629\n",
            "ARIMA(1, 2, 1)x(2, 2, 1, 12)12 - AIC:4762.2844697953215\n",
            "ARIMA(1, 2, 1)x(2, 2, 2, 12)12 - AIC:4710.241466461351\n",
            "ARIMA(1, 2, 2)x(0, 0, 0, 12)12 - AIC:5335.961186381767\n",
            "ARIMA(1, 2, 2)x(0, 0, 1, 12)12 - AIC:5164.999919791136\n",
            "ARIMA(1, 2, 2)x(0, 0, 2, 12)12 - AIC:4999.440625232488\n",
            "ARIMA(1, 2, 2)x(0, 1, 0, 12)12 - AIC:5399.952167537627\n",
            "ARIMA(1, 2, 2)x(0, 1, 1, 12)12 - AIC:5022.326573596982\n",
            "ARIMA(1, 2, 2)x(0, 1, 2, 12)12 - AIC:4824.319495436346\n",
            "ARIMA(1, 2, 2)x(0, 2, 0, 12)12 - AIC:5586.671638355044\n",
            "ARIMA(1, 2, 2)x(0, 2, 1, 12)12 - AIC:5055.331374169825\n",
            "ARIMA(1, 2, 2)x(0, 2, 2, 12)12 - AIC:4924.40547378346\n",
            "ARIMA(1, 2, 2)x(1, 0, 0, 12)12 - AIC:5193.773755509104\n",
            "ARIMA(1, 2, 2)x(1, 0, 1, 12)12 - AIC:5166.854817463609\n",
            "ARIMA(1, 2, 2)x(1, 0, 2, 12)12 - AIC:4984.257612972521\n",
            "ARIMA(1, 2, 2)x(1, 1, 0, 12)12 - AIC:5158.128770027894\n",
            "ARIMA(1, 2, 2)x(1, 1, 1, 12)12 - AIC:5024.311362930939\n",
            "ARIMA(1, 2, 2)x(1, 1, 2, 12)12 - AIC:4812.730295469741\n",
            "ARIMA(1, 2, 2)x(1, 2, 0, 12)12 - AIC:5213.520542417027\n",
            "ARIMA(1, 2, 2)x(1, 2, 1, 12)12 - AIC:4974.94587384204\n",
            "ARIMA(1, 2, 2)x(1, 2, 2, 12)12 - AIC:4716.896182912343\n",
            "ARIMA(1, 2, 2)x(2, 0, 0, 12)12 - AIC:5027.805684259998\n",
            "ARIMA(1, 2, 2)x(2, 0, 1, 12)12 - AIC:5016.619367628446\n",
            "ARIMA(1, 2, 2)x(2, 0, 2, 12)12 - AIC:4984.757838682397\n",
            "ARIMA(1, 2, 2)x(2, 1, 0, 12)12 - AIC:4919.797060351213\n",
            "ARIMA(1, 2, 2)x(2, 1, 1, 12)12 - AIC:4872.822314785953\n",
            "ARIMA(1, 2, 2)x(2, 1, 2, 12)12 - AIC:4892.2308988845225\n",
            "ARIMA(1, 2, 2)x(2, 2, 0, 12)12 - AIC:4924.469829327404\n",
            "ARIMA(1, 2, 2)x(2, 2, 1, 12)12 - AIC:4858.447907933868\n",
            "ARIMA(1, 2, 2)x(2, 2, 2, 12)12 - AIC:4987.806078274954\n",
            "ARIMA(2, 0, 0)x(0, 0, 0, 12)12 - AIC:5371.495829627223\n",
            "ARIMA(2, 0, 0)x(0, 0, 1, 12)12 - AIC:5213.628193348368\n",
            "ARIMA(2, 0, 0)x(0, 0, 2, 12)12 - AIC:5047.338016843869\n",
            "ARIMA(2, 0, 0)x(0, 1, 0, 12)12 - AIC:5413.409562155117\n",
            "ARIMA(2, 0, 0)x(0, 1, 1, 12)12 - AIC:5065.2182936685185\n",
            "ARIMA(2, 0, 0)x(0, 1, 2, 12)12 - AIC:4871.636873935224\n",
            "ARIMA(2, 0, 0)x(0, 2, 0, 12)12 - AIC:5596.603380791592\n",
            "ARIMA(2, 0, 0)x(0, 2, 1, 12)12 - AIC:5102.489238099382\n",
            "ARIMA(2, 0, 0)x(0, 2, 2, 12)12 - AIC:4743.674034034063\n",
            "ARIMA(2, 0, 0)x(1, 0, 0, 12)12 - AIC:5199.870332269875\n",
            "ARIMA(2, 0, 0)x(1, 0, 1, 12)12 - AIC:5192.125292135594\n",
            "ARIMA(2, 0, 0)x(1, 0, 2, 12)12 - AIC:5031.4204536326215\n",
            "ARIMA(2, 0, 0)x(1, 1, 0, 12)12 - AIC:5155.870758380073\n",
            "ARIMA(2, 0, 0)x(1, 1, 1, 12)12 - AIC:5052.821574702701\n",
            "ARIMA(2, 0, 0)x(1, 1, 2, 12)12 - AIC:4861.843672508237\n",
            "ARIMA(2, 0, 0)x(1, 2, 0, 12)12 - AIC:5214.334062739879\n",
            "ARIMA(2, 0, 0)x(1, 2, 1, 12)12 - AIC:5012.882541228404\n",
            "ARIMA(2, 0, 0)x(1, 2, 2, 12)12 - AIC:4742.837179337117\n",
            "ARIMA(2, 0, 0)x(2, 0, 0, 12)12 - AIC:5032.6148168943055\n",
            "ARIMA(2, 0, 0)x(2, 0, 1, 12)12 - AIC:5015.992975590691\n",
            "ARIMA(2, 0, 0)x(2, 0, 2, 12)12 - AIC:5012.246598782223\n",
            "ARIMA(2, 0, 0)x(2, 1, 0, 12)12 - AIC:4917.734670568393\n",
            "ARIMA(2, 0, 0)x(2, 1, 1, 12)12 - AIC:4859.7372481090715\n",
            "ARIMA(2, 0, 0)x(2, 1, 2, 12)12 - AIC:4849.2849245991565\n",
            "ARIMA(2, 0, 0)x(2, 2, 0, 12)12 - AIC:4923.811424132078\n",
            "ARIMA(2, 0, 0)x(2, 2, 1, 12)12 - AIC:4775.871852718319\n",
            "ARIMA(2, 0, 0)x(2, 2, 2, 12)12 - AIC:4792.800738427781\n",
            "ARIMA(2, 0, 1)x(0, 0, 0, 12)12 - AIC:5373.487515368466\n",
            "ARIMA(2, 0, 1)x(0, 0, 1, 12)12 - AIC:5201.923279970482\n",
            "ARIMA(2, 0, 1)x(0, 0, 2, 12)12 - AIC:5034.792890136139\n",
            "ARIMA(2, 0, 1)x(0, 1, 0, 12)12 - AIC:5415.408137562306\n",
            "ARIMA(2, 0, 1)x(0, 1, 1, 12)12 - AIC:5052.9283443513605\n",
            "ARIMA(2, 0, 1)x(0, 1, 2, 12)12 - AIC:4858.741935856644\n",
            "ARIMA(2, 0, 1)x(0, 2, 0, 12)12 - AIC:5583.788113371777\n",
            "ARIMA(2, 0, 1)x(0, 2, 1, 12)12 - AIC:5080.152627192634\n",
            "ARIMA(2, 0, 1)x(0, 2, 2, 12)12 - AIC:4732.9989805669575\n",
            "ARIMA(2, 0, 1)x(1, 0, 0, 12)12 - AIC:5201.893508086005\n",
            "ARIMA(2, 0, 1)x(1, 0, 1, 12)12 - AIC:5192.37857043224\n",
            "ARIMA(2, 0, 1)x(1, 0, 2, 12)12 - AIC:5017.81964566073\n",
            "ARIMA(2, 0, 1)x(1, 1, 0, 12)12 - AIC:5152.510174806668\n",
            "ARIMA(2, 0, 1)x(1, 1, 1, 12)12 - AIC:5054.807595002134\n",
            "ARIMA(2, 0, 1)x(1, 1, 2, 12)12 - AIC:4859.012170038124\n",
            "ARIMA(2, 0, 1)x(1, 2, 0, 12)12 - AIC:5206.100445164233\n",
            "ARIMA(2, 0, 1)x(1, 2, 1, 12)12 - AIC:5056.4291114980315\n",
            "ARIMA(2, 0, 1)x(1, 2, 2, 12)12 - AIC:4944.06132801784\n",
            "ARIMA(2, 0, 1)x(2, 0, 0, 12)12 - AIC:5034.604044177795\n",
            "ARIMA(2, 0, 1)x(2, 0, 1, 12)12 - AIC:5017.356013786788\n",
            "ARIMA(2, 0, 1)x(2, 0, 2, 12)12 - AIC:5013.398888425415\n",
            "ARIMA(2, 0, 1)x(2, 1, 0, 12)12 - AIC:4916.936658940496\n",
            "ARIMA(2, 0, 1)x(2, 1, 1, 12)12 - AIC:4876.921618638924\n",
            "ARIMA(2, 0, 1)x(2, 1, 2, 12)12 - AIC:4849.499032709981\n",
            "ARIMA(2, 0, 1)x(2, 2, 0, 12)12 - AIC:5018.35985819961\n",
            "ARIMA(2, 0, 1)x(2, 2, 1, 12)12 - AIC:4904.018539184421\n",
            "ARIMA(2, 0, 1)x(2, 2, 2, 12)12 - AIC:4981.242150515747\n",
            "ARIMA(2, 0, 2)x(0, 0, 0, 12)12 - AIC:5359.880434753397\n",
            "ARIMA(2, 0, 2)x(0, 0, 1, 12)12 - AIC:5187.174240134644\n",
            "ARIMA(2, 0, 2)x(0, 0, 2, 12)12 - AIC:5021.100488339447\n",
            "ARIMA(2, 0, 2)x(0, 1, 0, 12)12 - AIC:5397.663759679846\n",
            "ARIMA(2, 0, 2)x(0, 1, 1, 12)12 - AIC:5047.912851632533\n",
            "ARIMA(2, 0, 2)x(0, 1, 2, 12)12 - AIC:4892.492221813918\n",
            "ARIMA(2, 0, 2)x(0, 2, 0, 12)12 - AIC:5560.980332030125\n",
            "ARIMA(2, 0, 2)x(0, 2, 1, 12)12 - AIC:5138.6951270928275\n",
            "ARIMA(2, 0, 2)x(0, 2, 2, 12)12 - AIC:4935.394349369019\n",
            "ARIMA(2, 0, 2)x(1, 0, 0, 12)12 - AIC:5201.378777082835\n",
            "ARIMA(2, 0, 2)x(1, 0, 1, 12)12 - AIC:5185.838116466789\n",
            "ARIMA(2, 0, 2)x(1, 0, 2, 12)12 - AIC:5036.814906633472\n",
            "ARIMA(2, 0, 2)x(1, 1, 0, 12)12 - AIC:5161.7504210259885\n",
            "ARIMA(2, 0, 2)x(1, 1, 1, 12)12 - AIC:5087.305062062906\n",
            "ARIMA(2, 0, 2)x(1, 1, 2, 12)12 - AIC:4893.042796475625\n",
            "ARIMA(2, 0, 2)x(1, 2, 0, 12)12 - AIC:5253.213171288128\n",
            "ARIMA(2, 0, 2)x(1, 2, 1, 12)12 - AIC:5117.015486639224\n",
            "ARIMA(2, 0, 2)x(1, 2, 2, 12)12 - AIC:4959.846279885734\n",
            "ARIMA(2, 0, 2)x(2, 0, 0, 12)12 - AIC:5036.182996500908\n",
            "ARIMA(2, 0, 2)x(2, 0, 1, 12)12 - AIC:5031.948391995352\n",
            "ARIMA(2, 0, 2)x(2, 0, 2, 12)12 - AIC:5009.074278245868\n",
            "ARIMA(2, 0, 2)x(2, 1, 0, 12)12 - AIC:4942.75780262095\n",
            "ARIMA(2, 0, 2)x(2, 1, 1, 12)12 - AIC:4914.68815775497\n",
            "ARIMA(2, 0, 2)x(2, 1, 2, 12)12 - AIC:4896.037784430897\n",
            "ARIMA(2, 0, 2)x(2, 2, 0, 12)12 - AIC:5017.514658074026\n",
            "ARIMA(2, 0, 2)x(2, 2, 1, 12)12 - AIC:4982.276035597585\n",
            "ARIMA(2, 0, 2)x(2, 2, 2, 12)12 - AIC:4965.4128886392555\n",
            "ARIMA(2, 1, 0)x(0, 0, 0, 12)12 - AIC:5357.782879686862\n",
            "ARIMA(2, 1, 0)x(0, 0, 1, 12)12 - AIC:5199.913908361092\n",
            "ARIMA(2, 1, 0)x(0, 0, 2, 12)12 - AIC:5032.775078964078\n",
            "ARIMA(2, 1, 0)x(0, 1, 0, 12)12 - AIC:5413.729754844265\n",
            "ARIMA(2, 1, 0)x(0, 1, 1, 12)12 - AIC:5057.340937442852\n",
            "ARIMA(2, 1, 0)x(0, 1, 2, 12)12 - AIC:4862.463959289116\n",
            "ARIMA(2, 1, 0)x(0, 2, 0, 12)12 - AIC:5602.214843570548\n",
            "ARIMA(2, 1, 0)x(0, 2, 1, 12)12 - AIC:5090.122003253213\n",
            "ARIMA(2, 1, 0)x(0, 2, 2, 12)12 - AIC:4736.99010638055\n",
            "ARIMA(2, 1, 0)x(1, 0, 0, 12)12 - AIC:5186.193431557818\n",
            "ARIMA(2, 1, 0)x(1, 0, 1, 12)12 - AIC:5179.9840461892245\n",
            "ARIMA(2, 1, 0)x(1, 0, 2, 12)12 - AIC:5018.252552852708\n",
            "ARIMA(2, 1, 0)x(1, 1, 0, 12)12 - AIC:5150.83282783236\n",
            "ARIMA(2, 1, 0)x(1, 1, 1, 12)12 - AIC:5044.2771412567545\n",
            "ARIMA(2, 1, 0)x(1, 1, 2, 12)12 - AIC:4854.1301776554\n",
            "ARIMA(2, 1, 0)x(1, 2, 0, 12)12 - AIC:5213.1906339396555\n",
            "ARIMA(2, 1, 0)x(1, 2, 1, 12)12 - AIC:4996.1362034042595\n",
            "ARIMA(2, 1, 0)x(1, 2, 2, 12)12 - AIC:4737.483059054404\n",
            "ARIMA(2, 1, 0)x(2, 0, 0, 12)12 - AIC:5018.738155511522\n",
            "ARIMA(2, 1, 0)x(2, 0, 1, 12)12 - AIC:5002.192242883661\n",
            "ARIMA(2, 1, 0)x(2, 0, 2, 12)12 - AIC:5008.498329261696\n",
            "ARIMA(2, 1, 0)x(2, 1, 0, 12)12 - AIC:4908.5134674312085\n",
            "ARIMA(2, 1, 0)x(2, 1, 1, 12)12 - AIC:4845.833252842139\n",
            "ARIMA(2, 1, 0)x(2, 1, 2, 12)12 - AIC:4836.223373067411\n",
            "ARIMA(2, 1, 0)x(2, 2, 0, 12)12 - AIC:4911.584005561615\n",
            "ARIMA(2, 1, 0)x(2, 2, 1, 12)12 - AIC:4758.486197688179\n",
            "ARIMA(2, 1, 0)x(2, 2, 2, 12)12 - AIC:4715.062767609645\n",
            "ARIMA(2, 1, 1)x(0, 0, 0, 12)12 - AIC:5360.0556936765615\n",
            "ARIMA(2, 1, 1)x(0, 0, 1, 12)12 - AIC:5186.562328559785\n",
            "ARIMA(2, 1, 1)x(0, 0, 2, 12)12 - AIC:5017.222427868766\n",
            "ARIMA(2, 1, 1)x(0, 1, 0, 12)12 - AIC:5405.564039293163\n",
            "ARIMA(2, 1, 1)x(0, 1, 1, 12)12 - AIC:5044.023659741869\n",
            "ARIMA(2, 1, 1)x(0, 1, 2, 12)12 - AIC:4844.336413678353\n",
            "ARIMA(2, 1, 1)x(0, 2, 0, 12)12 - AIC:5586.432643907636\n",
            "ARIMA(2, 1, 1)x(0, 2, 1, 12)12 - AIC:5069.033734010312\n",
            "ARIMA(2, 1, 1)x(0, 2, 2, 12)12 - AIC:4716.907240293925\n",
            "ARIMA(2, 1, 1)x(1, 0, 0, 12)12 - AIC:5186.711701597393\n",
            "ARIMA(2, 1, 1)x(1, 0, 1, 12)12 - AIC:5188.497389733494\n",
            "ARIMA(2, 1, 1)x(1, 0, 2, 12)12 - AIC:5013.748905422487\n",
            "ARIMA(2, 1, 1)x(1, 1, 0, 12)12 - AIC:5158.5457785244125\n",
            "ARIMA(2, 1, 1)x(1, 1, 1, 12)12 - AIC:5045.941433787031\n",
            "ARIMA(2, 1, 1)x(1, 1, 2, 12)12 - AIC:4835.0555659347665\n",
            "ARIMA(2, 1, 1)x(1, 2, 0, 12)12 - AIC:5204.1884670247355\n",
            "ARIMA(2, 1, 1)x(1, 2, 1, 12)12 - AIC:4998.0715911826055\n",
            "ARIMA(2, 1, 1)x(1, 2, 2, 12)12 - AIC:4716.113906511133\n",
            "ARIMA(2, 1, 1)x(2, 0, 0, 12)12 - AIC:5017.258148927135\n",
            "ARIMA(2, 1, 1)x(2, 0, 1, 12)12 - AIC:5001.7943760079315\n",
            "ARIMA(2, 1, 1)x(2, 0, 2, 12)12 - AIC:5000.329486711554\n",
            "ARIMA(2, 1, 1)x(2, 1, 0, 12)12 - AIC:4907.938945411187\n",
            "ARIMA(2, 1, 1)x(2, 1, 1, 12)12 - AIC:4846.4703939977135\n",
            "ARIMA(2, 1, 1)x(2, 1, 2, 12)12 - AIC:4836.2768575047685\n",
            "ARIMA(2, 1, 1)x(2, 2, 0, 12)12 - AIC:4913.582355168584\n",
            "ARIMA(2, 1, 1)x(2, 2, 1, 12)12 - AIC:4756.7238050536625\n",
            "ARIMA(2, 1, 1)x(2, 2, 2, 12)12 - AIC:4953.024354528704\n",
            "ARIMA(2, 1, 2)x(0, 0, 0, 12)12 - AIC:5339.590197464349\n",
            "ARIMA(2, 1, 2)x(0, 0, 1, 12)12 - AIC:5175.334662740911\n",
            "ARIMA(2, 1, 2)x(0, 0, 2, 12)12 - AIC:5008.348678961767\n",
            "ARIMA(2, 1, 2)x(0, 1, 0, 12)12 - AIC:5382.2664194317795\n",
            "ARIMA(2, 1, 2)x(0, 1, 1, 12)12 - AIC:5027.459792144929\n",
            "ARIMA(2, 1, 2)x(0, 1, 2, 12)12 - AIC:4833.247847247576\n",
            "ARIMA(2, 1, 2)x(0, 2, 0, 12)12 - AIC:5556.678127383\n",
            "ARIMA(2, 1, 2)x(0, 2, 1, 12)12 - AIC:5062.451629560108\n",
            "ARIMA(2, 1, 2)x(0, 2, 2, 12)12 - AIC:4806.209347900094\n",
            "ARIMA(2, 1, 2)x(1, 0, 0, 12)12 - AIC:5189.286439556698\n",
            "ARIMA(2, 1, 2)x(1, 0, 1, 12)12 - AIC:5166.380724789797\n",
            "ARIMA(2, 1, 2)x(1, 0, 2, 12)12 - AIC:4989.891359006095\n",
            "ARIMA(2, 1, 2)x(1, 1, 0, 12)12 - AIC:5139.1864257331945\n",
            "ARIMA(2, 1, 2)x(1, 1, 1, 12)12 - AIC:5037.429793438949\n",
            "ARIMA(2, 1, 2)x(1, 1, 2, 12)12 - AIC:4872.350584752177\n",
            "ARIMA(2, 1, 2)x(1, 2, 0, 12)12 - AIC:5196.132119866817\n",
            "ARIMA(2, 1, 2)x(1, 2, 1, 12)12 - AIC:5019.983977691425\n",
            "ARIMA(2, 1, 2)x(1, 2, 2, 12)12 - AIC:4967.878168122985\n",
            "ARIMA(2, 1, 2)x(2, 0, 0, 12)12 - AIC:5022.335773348077\n",
            "ARIMA(2, 1, 2)x(2, 0, 1, 12)12 - AIC:5001.863960334462\n",
            "ARIMA(2, 1, 2)x(2, 0, 2, 12)12 - AIC:4985.569871803619\n",
            "ARIMA(2, 1, 2)x(2, 1, 0, 12)12 - AIC:4907.386697167729\n",
            "ARIMA(2, 1, 2)x(2, 1, 1, 12)12 - AIC:4844.920892015605\n",
            "ARIMA(2, 1, 2)x(2, 1, 2, 12)12 - AIC:4857.8358082810455\n",
            "ARIMA(2, 1, 2)x(2, 2, 0, 12)12 - AIC:4915.762584443118\n",
            "ARIMA(2, 1, 2)x(2, 2, 1, 12)12 - AIC:4967.846666708925\n",
            "ARIMA(2, 1, 2)x(2, 2, 2, 12)12 - AIC:4969.428331844357\n",
            "ARIMA(2, 2, 0)x(0, 0, 0, 12)12 - AIC:5449.649212673343\n",
            "ARIMA(2, 2, 0)x(0, 0, 1, 12)12 - AIC:5289.525843698537\n",
            "ARIMA(2, 2, 0)x(0, 0, 2, 12)12 - AIC:5119.295261064193\n",
            "ARIMA(2, 2, 0)x(0, 1, 0, 12)12 - AIC:5499.45264467417\n",
            "ARIMA(2, 2, 0)x(0, 1, 1, 12)12 - AIC:5141.580222795012\n",
            "ARIMA(2, 2, 0)x(0, 1, 2, 12)12 - AIC:4944.725749680334\n",
            "ARIMA(2, 2, 0)x(0, 2, 0, 12)12 - AIC:5683.24481806\n",
            "ARIMA(2, 2, 0)x(0, 2, 1, 12)12 - AIC:5168.94958404787\n",
            "ARIMA(2, 2, 0)x(0, 2, 2, 12)12 - AIC:4804.85116023393\n",
            "ARIMA(2, 2, 0)x(1, 0, 0, 12)12 - AIC:5274.730327720134\n",
            "ARIMA(2, 2, 0)x(1, 0, 1, 12)12 - AIC:5266.695588747445\n",
            "ARIMA(2, 2, 0)x(1, 0, 2, 12)12 - AIC:5116.058265349106\n",
            "ARIMA(2, 2, 0)x(1, 1, 0, 12)12 - AIC:5229.6553034415265\n",
            "ARIMA(2, 2, 0)x(1, 1, 1, 12)12 - AIC:5130.671846058383\n",
            "ARIMA(2, 2, 0)x(1, 1, 2, 12)12 - AIC:4940.358877912651\n",
            "ARIMA(2, 2, 0)x(1, 2, 0, 12)12 - AIC:5287.853722832285\n",
            "ARIMA(2, 2, 0)x(1, 2, 1, 12)12 - AIC:5068.698653836866\n",
            "ARIMA(2, 2, 0)x(1, 2, 2, 12)12 - AIC:4806.411110734405\n",
            "ARIMA(2, 2, 0)x(2, 0, 0, 12)12 - AIC:5105.295906888749\n",
            "ARIMA(2, 2, 0)x(2, 0, 1, 12)12 - AIC:5089.81475169833\n",
            "ARIMA(2, 2, 0)x(2, 0, 2, 12)12 - AIC:5090.11210736647\n",
            "ARIMA(2, 2, 0)x(2, 1, 0, 12)12 - AIC:4992.5775270719205\n",
            "ARIMA(2, 2, 0)x(2, 1, 1, 12)12 - AIC:4932.7308612973775\n",
            "ARIMA(2, 2, 0)x(2, 1, 2, 12)12 - AIC:4928.578411985088\n",
            "ARIMA(2, 2, 0)x(2, 2, 0, 12)12 - AIC:4993.05490552791\n",
            "ARIMA(2, 2, 0)x(2, 2, 1, 12)12 - AIC:4833.71989789748\n",
            "ARIMA(2, 2, 0)x(2, 2, 2, 12)12 - AIC:4806.0134483796755\n",
            "ARIMA(2, 2, 1)x(0, 0, 0, 12)12 - AIC:5352.142205457906\n",
            "ARIMA(2, 2, 1)x(0, 0, 1, 12)12 - AIC:5178.861885845576\n",
            "ARIMA(2, 2, 1)x(0, 0, 2, 12)12 - AIC:5011.6736791089315\n",
            "ARIMA(2, 2, 1)x(0, 1, 0, 12)12 - AIC:5411.348322734293\n",
            "ARIMA(2, 2, 1)x(0, 1, 1, 12)12 - AIC:5038.423761735144\n",
            "ARIMA(2, 2, 1)x(0, 1, 2, 12)12 - AIC:4837.110142802725\n",
            "ARIMA(2, 2, 1)x(0, 2, 0, 12)12 - AIC:5598.69507949305\n",
            "ARIMA(2, 2, 1)x(0, 2, 1, 12)12 - AIC:5069.127860107542\n",
            "ARIMA(2, 2, 1)x(0, 2, 2, 12)12 - AIC:4709.0394306206235\n",
            "ARIMA(2, 2, 1)x(1, 0, 0, 12)12 - AIC:5178.96047724669\n",
            "ARIMA(2, 2, 1)x(1, 0, 1, 12)12 - AIC:5180.794198077135\n",
            "ARIMA(2, 2, 1)x(1, 0, 2, 12)12 - AIC:4997.670986185192\n",
            "ARIMA(2, 2, 1)x(1, 1, 0, 12)12 - AIC:5144.763923515298\n",
            "ARIMA(2, 2, 1)x(1, 1, 1, 12)12 - AIC:5039.885078509015\n",
            "ARIMA(2, 2, 1)x(1, 1, 2, 12)12 - AIC:4829.155394074145\n",
            "ARIMA(2, 2, 1)x(1, 2, 0, 12)12 - AIC:5204.646631245114\n",
            "ARIMA(2, 2, 1)x(1, 2, 1, 12)12 - AIC:4990.334852594926\n",
            "ARIMA(2, 2, 1)x(1, 2, 2, 12)12 - AIC:4710.054047755499\n",
            "ARIMA(2, 2, 1)x(2, 0, 0, 12)12 - AIC:5011.605029338144\n",
            "ARIMA(2, 2, 1)x(2, 0, 1, 12)12 - AIC:4996.705872812963\n",
            "ARIMA(2, 2, 1)x(2, 0, 2, 12)12 - AIC:4990.689704979367\n",
            "ARIMA(2, 2, 1)x(2, 1, 0, 12)12 - AIC:4908.895481453856\n",
            "ARIMA(2, 2, 1)x(2, 1, 1, 12)12 - AIC:4839.667084057881\n",
            "ARIMA(2, 2, 1)x(2, 1, 2, 12)12 - AIC:4830.12034287735\n",
            "ARIMA(2, 2, 1)x(2, 2, 0, 12)12 - AIC:4905.899771251779\n",
            "ARIMA(2, 2, 1)x(2, 2, 1, 12)12 - AIC:4750.187655488195\n",
            "ARIMA(2, 2, 1)x(2, 2, 2, 12)12 - AIC:4711.337465690329\n",
            "ARIMA(2, 2, 2)x(0, 0, 0, 12)12 - AIC:5340.470514498907\n",
            "ARIMA(2, 2, 2)x(0, 0, 1, 12)12 - AIC:5166.850576636871\n",
            "ARIMA(2, 2, 2)x(0, 0, 2, 12)12 - AIC:4999.298437538509\n",
            "ARIMA(2, 2, 2)x(0, 1, 0, 12)12 - AIC:5392.687063126259\n",
            "ARIMA(2, 2, 2)x(0, 1, 1, 12)12 - AIC:5024.3230970661225\n",
            "ARIMA(2, 2, 2)x(0, 1, 2, 12)12 - AIC:4825.943636222298\n",
            "ARIMA(2, 2, 2)x(0, 2, 0, 12)12 - AIC:5572.359594008549\n",
            "ARIMA(2, 2, 2)x(0, 2, 1, 12)12 - AIC:5049.447100368621\n",
            "ARIMA(2, 2, 2)x(0, 2, 2, 12)12 - AIC:4770.667296646552\n",
            "ARIMA(2, 2, 2)x(1, 0, 0, 12)12 - AIC:5180.757467457097\n",
            "ARIMA(2, 2, 2)x(1, 0, 1, 12)12 - AIC:5169.127478959019\n",
            "ARIMA(2, 2, 2)x(1, 0, 2, 12)12 - AIC:4991.088260252958\n",
            "ARIMA(2, 2, 2)x(1, 1, 0, 12)12 - AIC:5140.0465932391735\n",
            "ARIMA(2, 2, 2)x(1, 1, 1, 12)12 - AIC:5026.360683662411\n",
            "ARIMA(2, 2, 2)x(1, 1, 2, 12)12 - AIC:4860.6784276176895\n",
            "ARIMA(2, 2, 2)x(1, 2, 0, 12)12 - AIC:5194.927779311107\n",
            "ARIMA(2, 2, 2)x(1, 2, 1, 12)12 - AIC:5180.488123342151\n",
            "ARIMA(2, 2, 2)x(1, 2, 2, 12)12 - AIC:4912.115470446128\n",
            "ARIMA(2, 2, 2)x(2, 0, 0, 12)12 - AIC:5013.621320380935\n",
            "ARIMA(2, 2, 2)x(2, 0, 1, 12)12 - AIC:5001.644444930023\n",
            "ARIMA(2, 2, 2)x(2, 0, 2, 12)12 - AIC:4986.0457828838735\n",
            "ARIMA(2, 2, 2)x(2, 1, 0, 12)12 - AIC:4907.748713291554\n",
            "ARIMA(2, 2, 2)x(2, 1, 1, 12)12 - AIC:4906.77642646631\n",
            "ARIMA(2, 2, 2)x(2, 1, 2, 12)12 - AIC:4815.886455502456\n",
            "ARIMA(2, 2, 2)x(2, 2, 0, 12)12 - AIC:4900.196716332733\n",
            "ARIMA(2, 2, 2)x(2, 2, 1, 12)12 - AIC:5007.0690525414775\n",
            "ARIMA(2, 2, 2)x(2, 2, 2, 12)12 - AIC:4875.419279658954\n",
            "La búsqueda de parámetros no ha llevado 40.05555888414383 minutos!\n"
          ]
        }
      ]
    },
    {
      "cell_type": "code",
      "source": [
        "print(\"El mejor modelo es {} {} \\nCon un AIC de {}\".format(best_params,best_seasonal_params, best_score))"
      ],
      "metadata": {
        "colab": {
          "base_uri": "https://localhost:8080/"
        },
        "id": "sxpvc-V3XfFi",
        "outputId": "db2ceac5-ca88-4d96-9321-cff91b1eeb45"
      },
      "execution_count": null,
      "outputs": [
        {
          "output_type": "stream",
          "name": "stdout",
          "text": [
            "El mejor modelo es (0, 2, 2) (0, 2, 2, 12) \n",
            "Con un AIC de 4684.0320575567885\n"
          ]
        }
      ]
    },
    {
      "cell_type": "markdown",
      "source": [
        "#Fitting Arima\n"
      ],
      "metadata": {
        "id": "adH6v-FVtLme"
      }
    },
    {
      "cell_type": "code",
      "source": [
        "mod = sm.tsa.statespace.SARIMAX(serie_predecir,\n",
        "                                order = (0,2,2),\n",
        "                                seasonal_order = (0,2,2,12),\n",
        "                                enforce_stationarity = False,\n",
        "                                enforce_invertibility = False)\n",
        "\n",
        "results = mod.fit()"
      ],
      "metadata": {
        "id": "pq_J7ucDC8uZ"
      },
      "execution_count": null,
      "outputs": []
    },
    {
      "cell_type": "code",
      "source": [
        "print(results.summary())"
      ],
      "metadata": {
        "colab": {
          "base_uri": "https://localhost:8080/"
        },
        "id": "eITYbZNawfz0",
        "outputId": "e0615c9a-9d2e-4eae-f6d1-5e75522c4ee8"
      },
      "execution_count": null,
      "outputs": [
        {
          "output_type": "stream",
          "name": "stdout",
          "text": [
            "                                     SARIMAX Results                                      \n",
            "==========================================================================================\n",
            "Dep. Variable:                              Price   No. Observations:                  367\n",
            "Model:             SARIMAX(0, 2, 2)x(0, 2, 2, 12)   Log Likelihood               -2337.016\n",
            "Date:                            Thu, 01 Sep 2022   AIC                           4684.032\n",
            "Time:                                    11:23:22   BIC                           4702.779\n",
            "Sample:                                05-23-2019   HQIC                          4691.523\n",
            "                                     - 05-23-2020                                         \n",
            "Covariance Type:                              opg                                         \n",
            "==============================================================================\n",
            "                 coef    std err          z      P>|z|      [0.025      0.975]\n",
            "------------------------------------------------------------------------------\n",
            "ma.L1         -1.0393      1.349     -0.770      0.441      -3.684       1.606\n",
            "ma.L2          0.0391      0.084      0.467      0.640      -0.125       0.203\n",
            "ma.S.L12      -2.0322      1.358     -1.497      0.134      -4.693       0.629\n",
            "ma.S.L24       1.0346      1.410      0.734      0.463      -1.729       3.798\n",
            "sigma2      1.205e+05   1.29e-05   9.33e+09      0.000     1.2e+05     1.2e+05\n",
            "===================================================================================\n",
            "Ljung-Box (L1) (Q):                   0.00   Jarque-Bera (JB):              2269.25\n",
            "Prob(Q):                              0.95   Prob(JB):                         0.00\n",
            "Heteroskedasticity (H):               1.18   Skew:                            -1.39\n",
            "Prob(H) (two-sided):                  0.39   Kurtosis:                        15.87\n",
            "===================================================================================\n",
            "\n",
            "Warnings:\n",
            "[1] Covariance matrix calculated using the outer product of gradients (complex-step).\n",
            "[2] Covariance matrix is singular or near-singular, with condition number 3.72e+26. Standard errors may be unstable.\n"
          ]
        }
      ]
    },
    {
      "cell_type": "code",
      "source": [
        "results.plot_diagnostics(figsize=(16, 8))\n",
        "plt.show()"
      ],
      "metadata": {
        "colab": {
          "base_uri": "https://localhost:8080/",
          "height": 513
        },
        "id": "kS2c0P0lw2I7",
        "outputId": "dcfc486d-82fc-4bc0-8a10-67f0d4e4f23f"
      },
      "execution_count": null,
      "outputs": [
        {
          "output_type": "display_data",
          "data": {
            "text/plain": [
              "<Figure size 1152x576 with 4 Axes>"
            ],
            "image/png": "[encoded data removed]"
          },
          "metadata": {
            "needs_background": "light"
          }
        }
      ]
    },
    {
      "cell_type": "code",
      "source": [
        "pred = results.get_prediction(start=pd.to_datetime('2020-05-01'), dynamic=False)\n",
        "pred_ci = pred.conf_int()\n",
        "ax = serie_predecir['2020-04':].plot(label='observed')\n",
        "pred.predicted_mean.plot(ax=ax, label='One-step ahead Forecast', alpha=.7, figsize=(20, 10))\n",
        "ax.fill_between(pred_ci.index,\n",
        "                pred_ci.iloc[:, 0],\n",
        "                pred_ci.iloc[:, 1], color='k', alpha=.2)\n",
        "ax.set_xlabel('Date')\n",
        "ax.set_ylabel('Prices')\n",
        "plt.legend()\n",
        "plt.show()"
      ],
      "metadata": {
        "colab": {
          "base_uri": "https://localhost:8080/",
          "height": 640
        },
        "id": "OLTmYPcPw8pT",
        "outputId": "99b47acf-ad9a-4e50-b8a3-dde4cd1a4cdf"
      },
      "execution_count": null,
      "outputs": [
        {
          "output_type": "display_data",
          "data": {
            "text/plain": [
              "<Figure size 1440x720 with 1 Axes>"
            ],
            "image/png": "[encoded data removed]"
          },
          "metadata": {
            "needs_background": "light"
          }
        }
      ]
    },
    {
      "cell_type": "code",
      "source": [
        "y_forecasted = pred.predicted_mean\n",
        "y_fore = pd.DataFrame(y_forecasted)"
      ],
      "metadata": {
        "id": "c0CDonUkxZBM"
      },
      "execution_count": null,
      "outputs": []
    },
    {
      "cell_type": "code",
      "source": [
        "y_fore = y_fore.rename(columns= {'predicted_mean':\"Price Predict\",})"
      ],
      "metadata": {
        "id": "S4sseQh_MmX3"
      },
      "execution_count": null,
      "outputs": []
    },
    {
      "cell_type": "code",
      "source": [
        "y_fore"
      ],
      "metadata": {
        "colab": {
          "base_uri": "https://localhost:8080/",
          "height": 771
        },
        "id": "aUIJJsIYM0qZ",
        "outputId": "41c1a07c-5567-42dd-af2d-3ac7d2673d6c"
      },
      "execution_count": null,
      "outputs": [
        {
          "output_type": "execute_result",
          "data": {
            "text/plain": [
              "            Price Predict\n",
              "2020-05-01    8609.926630\n",
              "2020-05-02    8872.803081\n",
              "2020-05-03    8885.991676\n",
              "2020-05-04    9105.424443\n",
              "2020-05-05    9139.485275\n",
              "2020-05-06    9206.684026\n",
              "2020-05-07    9210.783130\n",
              "2020-05-08    9906.557712\n",
              "2020-05-09    9803.253002\n",
              "2020-05-10    9715.332878\n",
              "2020-05-11    8763.425555\n",
              "2020-05-12    8867.482474\n",
              "2020-05-13    8768.530984\n",
              "2020-05-14    9285.419912\n",
              "2020-05-15    9614.798039\n",
              "2020-05-16    9544.973173\n",
              "2020-05-17    9598.853489\n",
              "2020-05-18    9901.227273\n",
              "2020-05-19    9773.945111\n",
              "2020-05-20    9697.061914\n",
              "2020-05-21    9455.705619\n",
              "2020-05-22    9085.276920\n",
              "2020-05-23    9142.084701"
            ],
            "text/html": [
              "\n",
              "  <div id=\"df-703511cd-7682-4f80-bb0f-257288893238\">\n",
              "    <div class=\"colab-df-container\">\n",
              "      <div>\n",
              "<style scoped>\n",
              "    .dataframe tbody tr th:only-of-type {\n",
              "        vertical-align: middle;\n",
              "    }\n",
              "\n",
              "    .dataframe tbody tr th {\n",
              "        vertical-align: top;\n",
              "    }\n",
              "\n",
              "    .dataframe thead th {\n",
              "        text-align: right;\n",
              "    }\n",
              "</style>\n",
              "<table border=\"1\" class=\"dataframe\">\n",
              "  <thead>\n",
              "    <tr style=\"text-align: right;\">\n",
              "      <th></th>\n",
              "      <th>Price Predict</th>\n",
              "    </tr>\n",
              "  </thead>\n",
              "  <tbody>\n",
              "    <tr>\n",
              "      <th>2020-05-01</th>\n",
              "      <td>8609.926630</td>\n",
              "    </tr>\n",
              "    <tr>\n",
              "      <th>2020-05-02</th>\n",
              "      <td>8872.803081</td>\n",
              "    </tr>\n",
              "    <tr>\n",
              "      <th>2020-05-03</th>\n",
              "      <td>8885.991676</td>\n",
              "    </tr>\n",
              "    <tr>\n",
              "      <th>2020-05-04</th>\n",
              "      <td>9105.424443</td>\n",
              "    </tr>\n",
              "    <tr>\n",
              "      <th>2020-05-05</th>\n",
              "      <td>9139.485275</td>\n",
              "    </tr>\n",
              "    <tr>\n",
              "      <th>2020-05-06</th>\n",
              "      <td>9206.684026</td>\n",
              "    </tr>\n",
              "    <tr>\n",
              "      <th>2020-05-07</th>\n",
              "      <td>9210.783130</td>\n",
              "    </tr>\n",
              "    <tr>\n",
              "      <th>2020-05-08</th>\n",
              "      <td>9906.557712</td>\n",
              "    </tr>\n",
              "    <tr>\n",
              "      <th>2020-05-09</th>\n",
              "      <td>9803.253002</td>\n",
              "    </tr>\n",
              "    <tr>\n",
              "      <th>2020-05-10</th>\n",
              "      <td>9715.332878</td>\n",
              "    </tr>\n",
              "    <tr>\n",
              "      <th>2020-05-11</th>\n",
              "      <td>8763.425555</td>\n",
              "    </tr>\n",
              "    <tr>\n",
              "      <th>2020-05-12</th>\n",
              "      <td>8867.482474</td>\n",
              "    </tr>\n",
              "    <tr>\n",
              "      <th>2020-05-13</th>\n",
              "      <td>8768.530984</td>\n",
              "    </tr>\n",
              "    <tr>\n",
              "      <th>2020-05-14</th>\n",
              "      <td>9285.419912</td>\n",
              "    </tr>\n",
              "    <tr>\n",
              "      <th>2020-05-15</th>\n",
              "      <td>9614.798039</td>\n",
              "    </tr>\n",
              "    <tr>\n",
              "      <th>2020-05-16</th>\n",
              "      <td>9544.973173</td>\n",
              "    </tr>\n",
              "    <tr>\n",
              "      <th>2020-05-17</th>\n",
              "      <td>9598.853489</td>\n",
              "    </tr>\n",
              "    <tr>\n",
              "      <th>2020-05-18</th>\n",
              "      <td>9901.227273</td>\n",
              "    </tr>\n",
              "    <tr>\n",
              "      <th>2020-05-19</th>\n",
              "      <td>9773.945111</td>\n",
              "    </tr>\n",
              "    <tr>\n",
              "      <th>2020-05-20</th>\n",
              "      <td>9697.061914</td>\n",
              "    </tr>\n",
              "    <tr>\n",
              "      <th>2020-05-21</th>\n",
              "      <td>9455.705619</td>\n",
              "    </tr>\n",
              "    <tr>\n",
              "      <th>2020-05-22</th>\n",
              "      <td>9085.276920</td>\n",
              "    </tr>\n",
              "    <tr>\n",
              "      <th>2020-05-23</th>\n",
              "      <td>9142.084701</td>\n",
              "    </tr>\n",
              "  </tbody>\n",
              "</table>\n",
              "</div>\n",
              "      <button class=\"colab-df-convert\" onclick=\"convertToInteractive('df-703511cd-7682-4f80-bb0f-257288893238')\"\n",
              "              title=\"Convert this dataframe to an interactive table.\"\n",
              "              style=\"display:none;\">\n",
              "        \n",
              "  <svg xmlns=\"http://www.w3.org/2000/svg\" height=\"24px\"viewBox=\"0 0 24 24\"\n",
              "       width=\"24px\">\n",
              "    <path d=\"M0 0h24v24H0V0z\" fill=\"none\"/>\n",
              "    <path d=\"M18.56 5.44l.94 2.06.94-2.06 2.06-.94-2.06-.94-.94-2.06-.94 2.06-2.06.94zm-11 1L8.5 8.5l.94-2.06 2.06-.94-2.06-.94L8.5 2.5l-.94 2.06-2.06.94zm10 10l.94 2.06.94-2.06 2.06-.94-2.06-.94-.94-2.06-.94 2.06-2.06.94z\"/><path d=\"M17.41 7.96l-1.37-1.37c-.4-.4-.92-.59-1.43-.59-.52 0-1.04.2-1.43.59L10.3 9.45l-7.72 7.72c-.78.78-.78 2.05 0 2.83L4 21.41c.39.39.9.59 1.41.59.51 0 1.02-.2 1.41-.59l7.78-7.78 2.81-2.81c.8-.78.8-2.07 0-2.86zM5.41 20L4 18.59l7.72-7.72 1.47 1.35L5.41 20z\"/>\n",
              "  </svg>\n",
              "      </button>\n",
              "      \n",
              "  <style>\n",
              "    .colab-df-container {\n",
              "      display:flex;\n",
              "      flex-wrap:wrap;\n",
              "      gap: 12px;\n",
              "    }\n",
              "\n",
              "    .colab-df-convert {\n",
              "      background-color: #E8F0FE;\n",
              "      border: none;\n",
              "      border-radius: 50%;\n",
              "      cursor: pointer;\n",
              "      display: none;\n",
              "      fill: #1967D2;\n",
              "      height: 32px;\n",
              "      padding: 0 0 0 0;\n",
              "      width: 32px;\n",
              "    }\n",
              "\n",
              "    .colab-df-convert:hover {\n",
              "      background-color: #E2EBFA;\n",
              "      box-shadow: 0px 1px 2px rgba(60, 64, 67, 0.3), 0px 1px 3px 1px rgba(60, 64, 67, 0.15);\n",
              "      fill: #174EA6;\n",
              "    }\n",
              "\n",
              "    [theme=dark] .colab-df-convert {\n",
              "      background-color: #3B4455;\n",
              "      fill: #D2E3FC;\n",
              "    }\n",
              "\n",
              "    [theme=dark] .colab-df-convert:hover {\n",
              "      background-color: #434B5C;\n",
              "      box-shadow: 0px 1px 3px 1px rgba(0, 0, 0, 0.15);\n",
              "      filter: drop-shadow(0px 1px 2px rgba(0, 0, 0, 0.3));\n",
              "      fill: #FFFFFF;\n",
              "    }\n",
              "  </style>\n",
              "\n",
              "      <script>\n",
              "        const buttonEl =\n",
              "          document.querySelector('#df-703511cd-7682-4f80-bb0f-257288893238 button.colab-df-convert');\n",
              "        buttonEl.style.display =\n",
              "          google.colab.kernel.accessAllowed ? 'block' : 'none';\n",
              "\n",
              "        async function convertToInteractive(key) {\n",
              "          const element = document.querySelector('#df-703511cd-7682-4f80-bb0f-257288893238');\n",
              "          const dataTable =\n",
              "            await google.colab.kernel.invokeFunction('convertToInteractive',\n",
              "                                                     [key], {});\n",
              "          if (!dataTable) return;\n",
              "\n",
              "          const docLinkHtml = 'Like what you see? Visit the ' +\n",
              "            '<a target=\"_blank\" href=https://colab.research.google.com/notebooks/data_table.ipynb>data table notebook</a>'\n",
              "            + ' to learn more about interactive tables.';\n",
              "          element.innerHTML = '';\n",
              "          dataTable['output_type'] = 'display_data';\n",
              "          await google.colab.output.renderOutput(dataTable, element);\n",
              "          const docLink = document.createElement('div');\n",
              "          docLink.innerHTML = docLinkHtml;\n",
              "          element.appendChild(docLink);\n",
              "        }\n",
              "      </script>\n",
              "    </div>\n",
              "  </div>\n",
              "  "
            ]
          },
          "metadata": {},
          "execution_count": 98
        }
      ]
    },
    {
      "cell_type": "code",
      "source": [
        "y_truth= pd.DataFrame(serie_predecir['2020-05-01':])\n",
        "y_truth"
      ],
      "metadata": {
        "colab": {
          "base_uri": "https://localhost:8080/",
          "height": 802
        },
        "id": "UnKhAxuzM1q5",
        "outputId": "9f5c2367-77d7-436c-822e-bd5f390ccd7b"
      },
      "execution_count": null,
      "outputs": [
        {
          "output_type": "execute_result",
          "data": {
            "text/plain": [
              "                  Price\n",
              "Date                   \n",
              "2020-05-01  8864.766602\n",
              "2020-05-02  8988.596680\n",
              "2020-05-03  8897.468750\n",
              "2020-05-04  8912.654297\n",
              "2020-05-05  9003.070313\n",
              "2020-05-06  9268.761719\n",
              "2020-05-07  9951.518555\n",
              "2020-05-08  9842.666016\n",
              "2020-05-09  9593.896484\n",
              "2020-05-10  8756.430664\n",
              "2020-05-11  8601.795898\n",
              "2020-05-12  8804.477539\n",
              "2020-05-13  9269.987305\n",
              "2020-05-14  9733.721680\n",
              "2020-05-15  9328.197266\n",
              "2020-05-16  9377.013672\n",
              "2020-05-17  9670.739258\n",
              "2020-05-18  9726.575195\n",
              "2020-05-19  9729.038086\n",
              "2020-05-20  9522.981445\n",
              "2020-05-21  9081.761719\n",
              "2020-05-22  9182.577148\n",
              "2020-05-23  9180.045898"
            ],
            "text/html": [
              "\n",
              "  <div id=\"df-bb0d301a-a3bb-4482-a0ea-d06ea43ee229\">\n",
              "    <div class=\"colab-df-container\">\n",
              "      <div>\n",
              "<style scoped>\n",
              "    .dataframe tbody tr th:only-of-type {\n",
              "        vertical-align: middle;\n",
              "    }\n",
              "\n",
              "    .dataframe tbody tr th {\n",
              "        vertical-align: top;\n",
              "    }\n",
              "\n",
              "    .dataframe thead th {\n",
              "        text-align: right;\n",
              "    }\n",
              "</style>\n",
              "<table border=\"1\" class=\"dataframe\">\n",
              "  <thead>\n",
              "    <tr style=\"text-align: right;\">\n",
              "      <th></th>\n",
              "      <th>Price</th>\n",
              "    </tr>\n",
              "    <tr>\n",
              "      <th>Date</th>\n",
              "      <th></th>\n",
              "    </tr>\n",
              "  </thead>\n",
              "  <tbody>\n",
              "    <tr>\n",
              "      <th>2020-05-01</th>\n",
              "      <td>8864.766602</td>\n",
              "    </tr>\n",
              "    <tr>\n",
              "      <th>2020-05-02</th>\n",
              "      <td>8988.596680</td>\n",
              "    </tr>\n",
              "    <tr>\n",
              "      <th>2020-05-03</th>\n",
              "      <td>8897.468750</td>\n",
              "    </tr>\n",
              "    <tr>\n",
              "      <th>2020-05-04</th>\n",
              "      <td>8912.654297</td>\n",
              "    </tr>\n",
              "    <tr>\n",
              "      <th>2020-05-05</th>\n",
              "      <td>9003.070313</td>\n",
              "    </tr>\n",
              "    <tr>\n",
              "      <th>2020-05-06</th>\n",
              "      <td>9268.761719</td>\n",
              "    </tr>\n",
              "    <tr>\n",
              "      <th>2020-05-07</th>\n",
              "      <td>9951.518555</td>\n",
              "    </tr>\n",
              "    <tr>\n",
              "      <th>2020-05-08</th>\n",
              "      <td>9842.666016</td>\n",
              "    </tr>\n",
              "    <tr>\n",
              "      <th>2020-05-09</th>\n",
              "      <td>9593.896484</td>\n",
              "    </tr>\n",
              "    <tr>\n",
              "      <th>2020-05-10</th>\n",
              "      <td>8756.430664</td>\n",
              "    </tr>\n",
              "    <tr>\n",
              "      <th>2020-05-11</th>\n",
              "      <td>8601.795898</td>\n",
              "    </tr>\n",
              "    <tr>\n",
              "      <th>2020-05-12</th>\n",
              "      <td>8804.477539</td>\n",
              "    </tr>\n",
              "    <tr>\n",
              "      <th>2020-05-13</th>\n",
              "      <td>9269.987305</td>\n",
              "    </tr>\n",
              "    <tr>\n",
              "      <th>2020-05-14</th>\n",
              "      <td>9733.721680</td>\n",
              "    </tr>\n",
              "    <tr>\n",
              "      <th>2020-05-15</th>\n",
              "      <td>9328.197266</td>\n",
              "    </tr>\n",
              "    <tr>\n",
              "      <th>2020-05-16</th>\n",
              "      <td>9377.013672</td>\n",
              "    </tr>\n",
              "    <tr>\n",
              "      <th>2020-05-17</th>\n",
              "      <td>9670.739258</td>\n",
              "    </tr>\n",
              "    <tr>\n",
              "      <th>2020-05-18</th>\n",
              "      <td>9726.575195</td>\n",
              "    </tr>\n",
              "    <tr>\n",
              "      <th>2020-05-19</th>\n",
              "      <td>9729.038086</td>\n",
              "    </tr>\n",
              "    <tr>\n",
              "      <th>2020-05-20</th>\n",
              "      <td>9522.981445</td>\n",
              "    </tr>\n",
              "    <tr>\n",
              "      <th>2020-05-21</th>\n",
              "      <td>9081.761719</td>\n",
              "    </tr>\n",
              "    <tr>\n",
              "      <th>2020-05-22</th>\n",
              "      <td>9182.577148</td>\n",
              "    </tr>\n",
              "    <tr>\n",
              "      <th>2020-05-23</th>\n",
              "      <td>9180.045898</td>\n",
              "    </tr>\n",
              "  </tbody>\n",
              "</table>\n",
              "</div>\n",
              "      <button class=\"colab-df-convert\" onclick=\"convertToInteractive('df-bb0d301a-a3bb-4482-a0ea-d06ea43ee229')\"\n",
              "              title=\"Convert this dataframe to an interactive table.\"\n",
              "              style=\"display:none;\">\n",
              "        \n",
              "  <svg xmlns=\"http://www.w3.org/2000/svg\" height=\"24px\"viewBox=\"0 0 24 24\"\n",
              "       width=\"24px\">\n",
              "    <path d=\"M0 0h24v24H0V0z\" fill=\"none\"/>\n",
              "    <path d=\"M18.56 5.44l.94 2.06.94-2.06 2.06-.94-2.06-.94-.94-2.06-.94 2.06-2.06.94zm-11 1L8.5 8.5l.94-2.06 2.06-.94-2.06-.94L8.5 2.5l-.94 2.06-2.06.94zm10 10l.94 2.06.94-2.06 2.06-.94-2.06-.94-.94-2.06-.94 2.06-2.06.94z\"/><path d=\"M17.41 7.96l-1.37-1.37c-.4-.4-.92-.59-1.43-.59-.52 0-1.04.2-1.43.59L10.3 9.45l-7.72 7.72c-.78.78-.78 2.05 0 2.83L4 21.41c.39.39.9.59 1.41.59.51 0 1.02-.2 1.41-.59l7.78-7.78 2.81-2.81c.8-.78.8-2.07 0-2.86zM5.41 20L4 18.59l7.72-7.72 1.47 1.35L5.41 20z\"/>\n",
              "  </svg>\n",
              "      </button>\n",
              "      \n",
              "  <style>\n",
              "    .colab-df-container {\n",
              "      display:flex;\n",
              "      flex-wrap:wrap;\n",
              "      gap: 12px;\n",
              "    }\n",
              "\n",
              "    .colab-df-convert {\n",
              "      background-color: #E8F0FE;\n",
              "      border: none;\n",
              "      border-radius: 50%;\n",
              "      cursor: pointer;\n",
              "      display: none;\n",
              "      fill: #1967D2;\n",
              "      height: 32px;\n",
              "      padding: 0 0 0 0;\n",
              "      width: 32px;\n",
              "    }\n",
              "\n",
              "    .colab-df-convert:hover {\n",
              "      background-color: #E2EBFA;\n",
              "      box-shadow: 0px 1px 2px rgba(60, 64, 67, 0.3), 0px 1px 3px 1px rgba(60, 64, 67, 0.15);\n",
              "      fill: #174EA6;\n",
              "    }\n",
              "\n",
              "    [theme=dark] .colab-df-convert {\n",
              "      background-color: #3B4455;\n",
              "      fill: #D2E3FC;\n",
              "    }\n",
              "\n",
              "    [theme=dark] .colab-df-convert:hover {\n",
              "      background-color: #434B5C;\n",
              "      box-shadow: 0px 1px 3px 1px rgba(0, 0, 0, 0.15);\n",
              "      filter: drop-shadow(0px 1px 2px rgba(0, 0, 0, 0.3));\n",
              "      fill: #FFFFFF;\n",
              "    }\n",
              "  </style>\n",
              "\n",
              "      <script>\n",
              "        const buttonEl =\n",
              "          document.querySelector('#df-bb0d301a-a3bb-4482-a0ea-d06ea43ee229 button.colab-df-convert');\n",
              "        buttonEl.style.display =\n",
              "          google.colab.kernel.accessAllowed ? 'block' : 'none';\n",
              "\n",
              "        async function convertToInteractive(key) {\n",
              "          const element = document.querySelector('#df-bb0d301a-a3bb-4482-a0ea-d06ea43ee229');\n",
              "          const dataTable =\n",
              "            await google.colab.kernel.invokeFunction('convertToInteractive',\n",
              "                                                     [key], {});\n",
              "          if (!dataTable) return;\n",
              "\n",
              "          const docLinkHtml = 'Like what you see? Visit the ' +\n",
              "            '<a target=\"_blank\" href=https://colab.research.google.com/notebooks/data_table.ipynb>data table notebook</a>'\n",
              "            + ' to learn more about interactive tables.';\n",
              "          element.innerHTML = '';\n",
              "          dataTable['output_type'] = 'display_data';\n",
              "          await google.colab.output.renderOutput(dataTable, element);\n",
              "          const docLink = document.createElement('div');\n",
              "          docLink.innerHTML = docLinkHtml;\n",
              "          element.appendChild(docLink);\n",
              "        }\n",
              "      </script>\n",
              "    </div>\n",
              "  </div>\n",
              "  "
            ]
          },
          "metadata": {},
          "execution_count": 104
        }
      ]
    },
    {
      "cell_type": "code",
      "source": [
        "y_fore.shape"
      ],
      "metadata": {
        "colab": {
          "base_uri": "https://localhost:8080/"
        },
        "id": "nILJC5MfStbx",
        "outputId": "9cbfdb07-0cec-4eb9-9be0-e84136bc9d3e"
      },
      "execution_count": null,
      "outputs": [
        {
          "output_type": "execute_result",
          "data": {
            "text/plain": [
              "(23, 1)"
            ]
          },
          "metadata": {},
          "execution_count": 105
        }
      ]
    },
    {
      "cell_type": "code",
      "source": [
        "y_truth.shape"
      ],
      "metadata": {
        "colab": {
          "base_uri": "https://localhost:8080/"
        },
        "id": "dYp9SN_KTHcV",
        "outputId": "37d02d42-1b32-4d09-ff4b-bb704e9d8dcb"
      },
      "execution_count": null,
      "outputs": [
        {
          "output_type": "execute_result",
          "data": {
            "text/plain": [
              "(23, 1)"
            ]
          },
          "metadata": {},
          "execution_count": 106
        }
      ]
    },
    {
      "cell_type": "code",
      "source": [
        "y_compare = y_truth.join(y_fore, on = 'Date')"
      ],
      "metadata": {
        "id": "IpflhhcATL-6"
      },
      "execution_count": null,
      "outputs": []
    },
    {
      "cell_type": "code",
      "source": [
        "from sklearn.metrics import mean_squared_error"
      ],
      "metadata": {
        "id": "VWXYxpqUTZ7i"
      },
      "execution_count": null,
      "outputs": []
    },
    {
      "cell_type": "code",
      "source": [
        "np.sqrt(mean_squared_error(y_truth, y_fore))"
      ],
      "metadata": {
        "colab": {
          "base_uri": "https://localhost:8080/"
        },
        "id": "3aQ8j-AUV7Wr",
        "outputId": "4802d313-a351-4964-f650-2132c1fbb824"
      },
      "execution_count": null,
      "outputs": [
        {
          "output_type": "execute_result",
          "data": {
            "text/plain": [
              "327.4281932939575"
            ]
          },
          "metadata": {},
          "execution_count": 109
        }
      ]
    },
    {
      "cell_type": "code",
      "source": [
        "results"
      ],
      "metadata": {
        "colab": {
          "base_uri": "https://localhost:8080/"
        },
        "id": "qqhX0o07ZhBo",
        "outputId": "99cacbb4-25c8-432b-f346-5b4b97d88e33"
      },
      "execution_count": null,
      "outputs": [
        {
          "output_type": "execute_result",
          "data": {
            "text/plain": [
              "<statsmodels.tsa.statespace.sarimax.SARIMAXResultsWrapper at 0x7f2cf1e2abd0>"
            ]
          },
          "metadata": {},
          "execution_count": 110
        }
      ]
    },
    {
      "cell_type": "code",
      "source": [
        "pred_uc = results.get_forecast(steps = 30)\n",
        "pred_ci_ = pred_uc.predicted_mean "
      ],
      "metadata": {
        "id": "OAAIZWkHWcis"
      },
      "execution_count": null,
      "outputs": []
    },
    {
      "cell_type": "code",
      "source": [
        "pred_ci_"
      ],
      "metadata": {
        "colab": {
          "base_uri": "https://localhost:8080/"
        },
        "id": "qp0CvngsX6-N",
        "outputId": "20ad75ec-b0b3-4dd4-fcbf-16db8c62f447"
      },
      "execution_count": null,
      "outputs": [
        {
          "output_type": "execute_result",
          "data": {
            "text/plain": [
              "2020-05-24     9451.105401\n",
              "2020-05-25     9473.983134\n",
              "2020-05-26     9561.626711\n",
              "2020-05-27     9405.568328\n",
              "2020-05-28     9607.086066\n",
              "2020-05-29     9839.435686\n",
              "2020-05-30    10070.693631\n",
              "2020-05-31    10115.627956\n",
              "2020-06-01    10063.694978\n",
              "2020-06-02     9951.360446\n",
              "2020-06-03     9958.426514\n",
              "2020-06-04     9938.137460\n",
              "2020-06-05    10231.860290\n",
              "2020-06-06    10259.044024\n",
              "2020-06-07    10357.573763\n",
              "2020-06-08    10194.718662\n",
              "2020-06-09    10419.306416\n",
              "2020-06-10    10666.942809\n",
              "2020-06-11    10924.738863\n",
              "2020-06-12    10984.782325\n",
              "2020-06-13    10939.781188\n",
              "2020-06-14    10833.492814\n",
              "2020-06-15    10845.197814\n",
              "2020-06-16    10837.845711\n",
              "2020-06-17    11153.663824\n",
              "2020-06-18    11185.885956\n",
              "2020-06-19    11296.034256\n",
              "2020-06-20    11127.114835\n",
              "2020-06-21    11375.505004\n",
              "2020-06-22    11639.160569\n",
              "Freq: D, Name: predicted_mean, dtype: float64"
            ]
          },
          "metadata": {},
          "execution_count": 112
        }
      ]
    },
    {
      "cell_type": "code",
      "source": [
        "pred_uc = results.get_forecast(steps = 30)\n",
        "pred_ci = pred_uc.conf_int()\n",
        "ax = serie_predecir['2020-04':].plot(label='observed', figsize=(14, 7))\n",
        "pred_uc.predicted_mean.plot(ax=ax, label='Forecast')\n",
        "ax.fill_between(pred_ci.index,\n",
        "                pred_ci.iloc[:, 0],\n",
        "                pred_ci.iloc[:, 1], color='k', alpha=.25)\n",
        "ax.set_xlabel('Date')\n",
        "ax.set_ylabel('Price')\n",
        "plt.legend()\n",
        "plt.show()"
      ],
      "metadata": {
        "colab": {
          "base_uri": "https://localhost:8080/",
          "height": 477
        },
        "id": "TjYE9NVpZQbP",
        "outputId": "4b3c3975-1acc-44da-a4fe-eceaa52ae363"
      },
      "execution_count": null,
      "outputs": [
        {
          "output_type": "display_data",
          "data": {
            "text/plain": [
              "<Figure size 1008x504 with 1 Axes>"
            ],
            "image/png": "[encoded data removed]"
          },
          "metadata": {
            "needs_background": "light"
          }
        }
      ]
    },
    {
      "cell_type": "code",
      "source": [],
      "metadata": {
        "id": "vCT15TRqd88x"
      },
      "execution_count": null,
      "outputs": []
    }
  ]
}